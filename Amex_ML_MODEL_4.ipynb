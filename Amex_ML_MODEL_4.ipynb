{
  "cells": [
    {
      "cell_type": "code",
      "execution_count": null,
      "metadata": {
        "id": "zyTx1dc6q6b_"
      },
      "outputs": [],
      "source": [
        "pip install pyarrow"
      ]
    },
    {
      "cell_type": "code",
      "execution_count": null,
      "metadata": {
        "id": "X4nd6KmRq6cB"
      },
      "outputs": [],
      "source": [
        "pip install scikit-learn\n",
        "pip install --upgrade numpy pandas scikit-learn"
      ]
    },
    {
      "cell_type": "code",
      "execution_count": null,
      "metadata": {
        "id": "dYFMK36Lq6cC",
        "outputId": "d34c44c6-c0d9-4436-f05f-353a58e16505"
      },
      "outputs": [
        {
          "name": "stdout",
          "output_type": "stream",
          "text": [
            "Defaulting to user installation because normal site-packages is not writeable\n",
            "Collecting lightgbm\n",
            "  Downloading lightgbm-4.5.0-py3-none-manylinux_2_28_x86_64.whl (3.6 MB)\n",
            "\u001b[2K     \u001b[90m━━━━━━━━━━━━━━━━━━━━━━━━━━━━━━━━━━━━━━━━\u001b[0m \u001b[32m3.6/3.6 MB\u001b[0m \u001b[31m14.5 MB/s\u001b[0m eta \u001b[36m0:00:00\u001b[0m00:01\u001b[0m00:01\u001b[0m\n",
            "\u001b[?25hRequirement already satisfied: numpy>=1.17.0 in /usr/local/easybuild_allnodes/software/SciPy-bundle/2022.05-foss-2022a/lib/python3.10/site-packages (from lightgbm) (1.22.3)\n",
            "Requirement already satisfied: scipy in /usr/local/easybuild_allnodes/software/SciPy-bundle/2022.05-foss-2022a/lib/python3.10/site-packages (from lightgbm) (1.8.1)\n",
            "Installing collected packages: lightgbm\n",
            "Successfully installed lightgbm-4.5.0\n",
            "\u001b[33mWARNING: You are using pip version 22.0.4; however, version 24.3.1 is available.\n",
            "You should consider upgrading via the '/usr/local/easybuild_allnodes/software/Python/3.10.4-GCCcore-11.3.0/bin/python -m pip install --upgrade pip' command.\u001b[0m\u001b[33m\n",
            "\u001b[0mNote: you may need to restart the kernel to use updated packages.\n"
          ]
        }
      ],
      "source": [
        "pip install lightgbm"
      ]
    },
    {
      "cell_type": "code",
      "execution_count": null,
      "metadata": {
        "id": "wNKTstWhgIfO"
      },
      "outputs": [],
      "source": [
        "import pandas as pd\n",
        "import numpy as np\n",
        "import matplotlib.pyplot as plt\n",
        "import seaborn as sns"
      ]
    },
    {
      "cell_type": "code",
      "execution_count": null,
      "metadata": {
        "id": "P7yaBnR0gIhV"
      },
      "outputs": [],
      "source": [
        "parquet_file_path = '/home/hxk831/Personal Projects/train1.parquet'\n",
        "train = pd.read_parquet(parquet_file_path)\n"
      ]
    },
    {
      "cell_type": "markdown",
      "metadata": {
        "id": "ZJ47HC9WhFIi"
      },
      "source": [
        "# DATA PARTITION\n",
        "\n",
        "1. Split data based on time line i.e t,t-1,t-2,t-3\n",
        "\n",
        "2. t-2 will be train,Validation and t-3 will be test.\n",
        "\n",
        "3. t-1, t will be used for prediction and track data drift and track models performance"
      ]
    },
    {
      "cell_type": "code",
      "execution_count": null,
      "metadata": {
        "colab": {
          "base_uri": "https://localhost:8080/",
          "height": 596
        },
        "id": "MWAkt0_MgIkJ",
        "outputId": "37b9e7ba-b959-4eae-f613-e048d70c78a9"
      },
      "outputs": [
        {
          "data": {
            "text/html": [
              "<div>\n",
              "<style scoped>\n",
              "    .dataframe tbody tr th:only-of-type {\n",
              "        vertical-align: middle;\n",
              "    }\n",
              "\n",
              "    .dataframe tbody tr th {\n",
              "        vertical-align: top;\n",
              "    }\n",
              "\n",
              "    .dataframe thead th {\n",
              "        text-align: right;\n",
              "    }\n",
              "</style>\n",
              "<table border=\"1\" class=\"dataframe\">\n",
              "  <thead>\n",
              "    <tr style=\"text-align: right;\">\n",
              "      <th></th>\n",
              "      <th>customer_ID</th>\n",
              "      <th>S_2</th>\n",
              "      <th>P_2</th>\n",
              "      <th>D_39</th>\n",
              "      <th>B_1</th>\n",
              "      <th>B_2</th>\n",
              "      <th>R_1</th>\n",
              "      <th>S_3</th>\n",
              "      <th>D_41</th>\n",
              "      <th>B_3</th>\n",
              "      <th>...</th>\n",
              "      <th>D_137</th>\n",
              "      <th>D_138</th>\n",
              "      <th>D_139</th>\n",
              "      <th>D_140</th>\n",
              "      <th>D_141</th>\n",
              "      <th>D_142</th>\n",
              "      <th>D_143</th>\n",
              "      <th>D_144</th>\n",
              "      <th>D_145</th>\n",
              "      <th>target</th>\n",
              "    </tr>\n",
              "  </thead>\n",
              "  <tbody>\n",
              "    <tr>\n",
              "      <th>10</th>\n",
              "      <td>0000099d6bd597052cdcda90ffabf56573fe9d7c79be5f...</td>\n",
              "      <td>2018-01-11</td>\n",
              "      <td>0.909668</td>\n",
              "      <td>0.005714</td>\n",
              "      <td>0.002829</td>\n",
              "      <td>1.004883</td>\n",
              "      <td>0.008179</td>\n",
              "      <td>0.098877</td>\n",
              "      <td>0.001853</td>\n",
              "      <td>0.003239</td>\n",
              "      <td>...</td>\n",
              "      <td>NaN</td>\n",
              "      <td>NaN</td>\n",
              "      <td>0.000427</td>\n",
              "      <td>0.004593</td>\n",
              "      <td>0.003613</td>\n",
              "      <td>NaN</td>\n",
              "      <td>0.007568</td>\n",
              "      <td>0.003004</td>\n",
              "      <td>0.006363</td>\n",
              "      <td>0</td>\n",
              "    </tr>\n",
              "    <tr>\n",
              "      <th>23</th>\n",
              "      <td>00000fd6641609c6ece5454664794f0340ad84dddce9a2...</td>\n",
              "      <td>2018-01-26</td>\n",
              "      <td>0.880859</td>\n",
              "      <td>0.211670</td>\n",
              "      <td>0.010582</td>\n",
              "      <td>1.001953</td>\n",
              "      <td>0.005955</td>\n",
              "      <td>0.130127</td>\n",
              "      <td>0.003628</td>\n",
              "      <td>0.002802</td>\n",
              "      <td>...</td>\n",
              "      <td>NaN</td>\n",
              "      <td>NaN</td>\n",
              "      <td>0.007275</td>\n",
              "      <td>0.008972</td>\n",
              "      <td>0.002497</td>\n",
              "      <td>NaN</td>\n",
              "      <td>0.003979</td>\n",
              "      <td>0.006626</td>\n",
              "      <td>0.002178</td>\n",
              "      <td>0</td>\n",
              "    </tr>\n",
              "    <tr>\n",
              "      <th>36</th>\n",
              "      <td>00001b22f846c82c51f6e3958ccd81970162bae8b007e8...</td>\n",
              "      <td>2018-01-12</td>\n",
              "      <td>0.899414</td>\n",
              "      <td>0.004372</td>\n",
              "      <td>0.003450</td>\n",
              "      <td>0.813965</td>\n",
              "      <td>0.007408</td>\n",
              "      <td>NaN</td>\n",
              "      <td>0.008377</td>\n",
              "      <td>0.003839</td>\n",
              "      <td>...</td>\n",
              "      <td>NaN</td>\n",
              "      <td>NaN</td>\n",
              "      <td>0.009117</td>\n",
              "      <td>0.003887</td>\n",
              "      <td>0.000715</td>\n",
              "      <td>NaN</td>\n",
              "      <td>0.007706</td>\n",
              "      <td>0.009415</td>\n",
              "      <td>0.000563</td>\n",
              "      <td>0</td>\n",
              "    </tr>\n",
              "    <tr>\n",
              "      <th>49</th>\n",
              "      <td>000041bdba6ecadd89a52d11886e8eaaec9325906c9723...</td>\n",
              "      <td>2018-01-18</td>\n",
              "      <td>0.614746</td>\n",
              "      <td>0.002249</td>\n",
              "      <td>0.025116</td>\n",
              "      <td>0.968750</td>\n",
              "      <td>0.009651</td>\n",
              "      <td>0.302979</td>\n",
              "      <td>0.007492</td>\n",
              "      <td>0.008408</td>\n",
              "      <td>...</td>\n",
              "      <td>NaN</td>\n",
              "      <td>NaN</td>\n",
              "      <td>0.002382</td>\n",
              "      <td>0.003796</td>\n",
              "      <td>0.000638</td>\n",
              "      <td>NaN</td>\n",
              "      <td>0.009453</td>\n",
              "      <td>0.004791</td>\n",
              "      <td>0.000834</td>\n",
              "      <td>0</td>\n",
              "    </tr>\n",
              "    <tr>\n",
              "      <th>62</th>\n",
              "      <td>00007889e4fcd2614b6cbe7f8f3d2e5c728eca32d9eb8a...</td>\n",
              "      <td>2018-01-30</td>\n",
              "      <td>0.881348</td>\n",
              "      <td>0.000722</td>\n",
              "      <td>0.009804</td>\n",
              "      <td>0.813477</td>\n",
              "      <td>0.009079</td>\n",
              "      <td>NaN</td>\n",
              "      <td>0.005905</td>\n",
              "      <td>0.000049</td>\n",
              "      <td>...</td>\n",
              "      <td>NaN</td>\n",
              "      <td>NaN</td>\n",
              "      <td>0.002579</td>\n",
              "      <td>0.001665</td>\n",
              "      <td>0.000579</td>\n",
              "      <td>NaN</td>\n",
              "      <td>0.004662</td>\n",
              "      <td>0.002550</td>\n",
              "      <td>0.009651</td>\n",
              "      <td>0</td>\n",
              "    </tr>\n",
              "    <tr>\n",
              "      <th>...</th>\n",
              "      <td>...</td>\n",
              "      <td>...</td>\n",
              "      <td>...</td>\n",
              "      <td>...</td>\n",
              "      <td>...</td>\n",
              "      <td>...</td>\n",
              "      <td>...</td>\n",
              "      <td>...</td>\n",
              "      <td>...</td>\n",
              "      <td>...</td>\n",
              "      <td>...</td>\n",
              "      <td>...</td>\n",
              "      <td>...</td>\n",
              "      <td>...</td>\n",
              "      <td>...</td>\n",
              "      <td>...</td>\n",
              "      <td>...</td>\n",
              "      <td>...</td>\n",
              "      <td>...</td>\n",
              "      <td>...</td>\n",
              "      <td>...</td>\n",
              "    </tr>\n",
              "    <tr>\n",
              "      <th>5531396</th>\n",
              "      <td>ffff41c8a52833b56430603969b9ca48d208e7c192c6a4...</td>\n",
              "      <td>2018-01-16</td>\n",
              "      <td>0.837891</td>\n",
              "      <td>0.008263</td>\n",
              "      <td>0.013161</td>\n",
              "      <td>1.006836</td>\n",
              "      <td>0.005756</td>\n",
              "      <td>0.133911</td>\n",
              "      <td>0.005955</td>\n",
              "      <td>0.007393</td>\n",
              "      <td>...</td>\n",
              "      <td>NaN</td>\n",
              "      <td>NaN</td>\n",
              "      <td>0.008492</td>\n",
              "      <td>0.001622</td>\n",
              "      <td>0.009659</td>\n",
              "      <td>NaN</td>\n",
              "      <td>0.005005</td>\n",
              "      <td>0.008423</td>\n",
              "      <td>0.002531</td>\n",
              "      <td>0</td>\n",
              "    </tr>\n",
              "    <tr>\n",
              "      <th>5531409</th>\n",
              "      <td>ffff518bb2075e4816ee3fe9f3b152c57fc0e6f01bf7fd...</td>\n",
              "      <td>2018-01-22</td>\n",
              "      <td>0.856445</td>\n",
              "      <td>0.036163</td>\n",
              "      <td>0.319092</td>\n",
              "      <td>0.044739</td>\n",
              "      <td>0.008858</td>\n",
              "      <td>NaN</td>\n",
              "      <td>0.005020</td>\n",
              "      <td>0.256104</td>\n",
              "      <td>...</td>\n",
              "      <td>NaN</td>\n",
              "      <td>NaN</td>\n",
              "      <td>0.002531</td>\n",
              "      <td>0.007389</td>\n",
              "      <td>0.003149</td>\n",
              "      <td>NaN</td>\n",
              "      <td>0.007442</td>\n",
              "      <td>0.005508</td>\n",
              "      <td>0.002928</td>\n",
              "      <td>0</td>\n",
              "    </tr>\n",
              "    <tr>\n",
              "      <th>5531422</th>\n",
              "      <td>ffff9984b999fccb2b6127635ed0736dda94e544e67e02...</td>\n",
              "      <td>2018-01-11</td>\n",
              "      <td>0.794434</td>\n",
              "      <td>0.384766</td>\n",
              "      <td>0.027100</td>\n",
              "      <td>1.000977</td>\n",
              "      <td>0.005398</td>\n",
              "      <td>0.075806</td>\n",
              "      <td>0.000377</td>\n",
              "      <td>0.004890</td>\n",
              "      <td>...</td>\n",
              "      <td>NaN</td>\n",
              "      <td>NaN</td>\n",
              "      <td>NaN</td>\n",
              "      <td>0.000498</td>\n",
              "      <td>NaN</td>\n",
              "      <td>NaN</td>\n",
              "      <td>NaN</td>\n",
              "      <td>0.004906</td>\n",
              "      <td>NaN</td>\n",
              "      <td>0</td>\n",
              "    </tr>\n",
              "    <tr>\n",
              "      <th>5531435</th>\n",
              "      <td>ffffa5c46bc8de74f5a4554e74e239c8dee6b9baf38814...</td>\n",
              "      <td>2018-01-25</td>\n",
              "      <td>0.787598</td>\n",
              "      <td>0.030945</td>\n",
              "      <td>0.015511</td>\n",
              "      <td>0.209473</td>\n",
              "      <td>0.008003</td>\n",
              "      <td>0.609375</td>\n",
              "      <td>0.008972</td>\n",
              "      <td>0.083679</td>\n",
              "      <td>...</td>\n",
              "      <td>NaN</td>\n",
              "      <td>NaN</td>\n",
              "      <td>1.009766</td>\n",
              "      <td>0.008911</td>\n",
              "      <td>0.940918</td>\n",
              "      <td>0.433838</td>\n",
              "      <td>1.002930</td>\n",
              "      <td>0.007103</td>\n",
              "      <td>0.182617</td>\n",
              "      <td>1</td>\n",
              "    </tr>\n",
              "    <tr>\n",
              "      <th>5531448</th>\n",
              "      <td>fffff1d38b785cef84adeace64f8f83db3a0c31e8d92ea...</td>\n",
              "      <td>2018-01-06</td>\n",
              "      <td>0.982910</td>\n",
              "      <td>0.444092</td>\n",
              "      <td>0.013153</td>\n",
              "      <td>0.815430</td>\n",
              "      <td>0.003456</td>\n",
              "      <td>0.100525</td>\n",
              "      <td>0.002111</td>\n",
              "      <td>0.012344</td>\n",
              "      <td>...</td>\n",
              "      <td>NaN</td>\n",
              "      <td>NaN</td>\n",
              "      <td>0.009956</td>\n",
              "      <td>0.009995</td>\n",
              "      <td>0.001088</td>\n",
              "      <td>NaN</td>\n",
              "      <td>0.005692</td>\n",
              "      <td>0.006775</td>\n",
              "      <td>0.005566</td>\n",
              "      <td>0</td>\n",
              "    </tr>\n",
              "  </tbody>\n",
              "</table>\n",
              "<p>446255 rows × 191 columns</p>\n",
              "</div>"
            ],
            "text/plain": [
              "                                               customer_ID        S_2  \\\n",
              "10       0000099d6bd597052cdcda90ffabf56573fe9d7c79be5f... 2018-01-11   \n",
              "23       00000fd6641609c6ece5454664794f0340ad84dddce9a2... 2018-01-26   \n",
              "36       00001b22f846c82c51f6e3958ccd81970162bae8b007e8... 2018-01-12   \n",
              "49       000041bdba6ecadd89a52d11886e8eaaec9325906c9723... 2018-01-18   \n",
              "62       00007889e4fcd2614b6cbe7f8f3d2e5c728eca32d9eb8a... 2018-01-30   \n",
              "...                                                    ...        ...   \n",
              "5531396  ffff41c8a52833b56430603969b9ca48d208e7c192c6a4... 2018-01-16   \n",
              "5531409  ffff518bb2075e4816ee3fe9f3b152c57fc0e6f01bf7fd... 2018-01-22   \n",
              "5531422  ffff9984b999fccb2b6127635ed0736dda94e544e67e02... 2018-01-11   \n",
              "5531435  ffffa5c46bc8de74f5a4554e74e239c8dee6b9baf38814... 2018-01-25   \n",
              "5531448  fffff1d38b785cef84adeace64f8f83db3a0c31e8d92ea... 2018-01-06   \n",
              "\n",
              "              P_2      D_39       B_1       B_2       R_1       S_3      D_41  \\\n",
              "10       0.909668  0.005714  0.002829  1.004883  0.008179  0.098877  0.001853   \n",
              "23       0.880859  0.211670  0.010582  1.001953  0.005955  0.130127  0.003628   \n",
              "36       0.899414  0.004372  0.003450  0.813965  0.007408       NaN  0.008377   \n",
              "49       0.614746  0.002249  0.025116  0.968750  0.009651  0.302979  0.007492   \n",
              "62       0.881348  0.000722  0.009804  0.813477  0.009079       NaN  0.005905   \n",
              "...           ...       ...       ...       ...       ...       ...       ...   \n",
              "5531396  0.837891  0.008263  0.013161  1.006836  0.005756  0.133911  0.005955   \n",
              "5531409  0.856445  0.036163  0.319092  0.044739  0.008858       NaN  0.005020   \n",
              "5531422  0.794434  0.384766  0.027100  1.000977  0.005398  0.075806  0.000377   \n",
              "5531435  0.787598  0.030945  0.015511  0.209473  0.008003  0.609375  0.008972   \n",
              "5531448  0.982910  0.444092  0.013153  0.815430  0.003456  0.100525  0.002111   \n",
              "\n",
              "              B_3  ...  D_137  D_138     D_139     D_140     D_141     D_142  \\\n",
              "10       0.003239  ...    NaN    NaN  0.000427  0.004593  0.003613       NaN   \n",
              "23       0.002802  ...    NaN    NaN  0.007275  0.008972  0.002497       NaN   \n",
              "36       0.003839  ...    NaN    NaN  0.009117  0.003887  0.000715       NaN   \n",
              "49       0.008408  ...    NaN    NaN  0.002382  0.003796  0.000638       NaN   \n",
              "62       0.000049  ...    NaN    NaN  0.002579  0.001665  0.000579       NaN   \n",
              "...           ...  ...    ...    ...       ...       ...       ...       ...   \n",
              "5531396  0.007393  ...    NaN    NaN  0.008492  0.001622  0.009659       NaN   \n",
              "5531409  0.256104  ...    NaN    NaN  0.002531  0.007389  0.003149       NaN   \n",
              "5531422  0.004890  ...    NaN    NaN       NaN  0.000498       NaN       NaN   \n",
              "5531435  0.083679  ...    NaN    NaN  1.009766  0.008911  0.940918  0.433838   \n",
              "5531448  0.012344  ...    NaN    NaN  0.009956  0.009995  0.001088       NaN   \n",
              "\n",
              "            D_143     D_144     D_145  target  \n",
              "10       0.007568  0.003004  0.006363       0  \n",
              "23       0.003979  0.006626  0.002178       0  \n",
              "36       0.007706  0.009415  0.000563       0  \n",
              "49       0.009453  0.004791  0.000834       0  \n",
              "62       0.004662  0.002550  0.009651       0  \n",
              "...           ...       ...       ...     ...  \n",
              "5531396  0.005005  0.008423  0.002531       0  \n",
              "5531409  0.007442  0.005508  0.002928       0  \n",
              "5531422       NaN  0.004906       NaN       0  \n",
              "5531435  1.002930  0.007103  0.182617       1  \n",
              "5531448  0.005692  0.006775  0.005566       0  \n",
              "\n",
              "[446255 rows x 191 columns]"
            ]
          },
          "execution_count": 5,
          "metadata": {},
          "output_type": "execute_result"
        }
      ],
      "source": [
        "train = train.groupby('customer_ID').tail(4)\n",
        "train"
      ]
    },
    {
      "cell_type": "code",
      "execution_count": null,
      "metadata": {
        "id": "f7Gn-nIrpRwJ"
      },
      "outputs": [],
      "source": [
        "train['S_2'] = pd.to_datetime(train['S_2'])\n",
        "pred2 = train[(train['S_2'].dt.year == 2018) & (train['S_2'].dt.month == 3)]\n",
        "pred1 = train[(train['S_2'].dt.year == 2018) & (train['S_2'].dt.month == 2)]\n",
        "train1 = train[(train['S_2'].dt.year == 2018) & (train['S_2'].dt.month == 1)]"
      ]
    },
    {
      "cell_type": "code",
      "execution_count": null,
      "metadata": {
        "id": "ylWcLBBapd3V"
      },
      "outputs": [],
      "source": [
        "train1 = train.copy()"
      ]
    },
    {
      "cell_type": "markdown",
      "metadata": {
        "id": "VGOW6iX4rohO"
      },
      "source": [
        "# 1. DATA QUALITY"
      ]
    },
    {
      "cell_type": "code",
      "execution_count": null,
      "metadata": {
        "colab": {
          "base_uri": "https://localhost:8080/"
        },
        "id": "_73jPdRhgq8C",
        "outputId": "45c9d318-66fa-47d6-8ffe-803dad89c53b"
      },
      "outputs": [
        {
          "name": "stdout",
          "output_type": "stream",
          "text": [
            "customer_ID: object\n",
            "S_2: datetime64[ns]\n",
            "P_2: float16\n",
            "D_39: float16\n",
            "B_1: float16\n",
            "B_2: float16\n",
            "R_1: float16\n",
            "S_3: float16\n",
            "D_41: float16\n",
            "B_3: float16\n",
            "D_42: float16\n",
            "D_43: float16\n",
            "D_44: float16\n",
            "B_4: float16\n",
            "D_45: float16\n",
            "B_5: float16\n",
            "R_2: float16\n",
            "D_46: float16\n",
            "D_47: float16\n",
            "D_48: float16\n",
            "D_49: float16\n",
            "B_6: float16\n",
            "B_7: float16\n",
            "B_8: float16\n",
            "D_50: float16\n",
            "D_51: float16\n",
            "B_9: float16\n",
            "R_3: float16\n",
            "D_52: float16\n",
            "P_3: float16\n",
            "B_10: float16\n",
            "D_53: float16\n",
            "S_5: float16\n",
            "B_11: float16\n",
            "S_6: float16\n",
            "D_54: float16\n",
            "R_4: float16\n",
            "S_7: float16\n",
            "B_12: float16\n",
            "S_8: float16\n",
            "D_55: float16\n",
            "D_56: float16\n",
            "B_13: float16\n",
            "R_5: float16\n",
            "D_58: float16\n",
            "S_9: float16\n",
            "B_14: float16\n",
            "D_59: float16\n",
            "D_60: float16\n",
            "D_61: float16\n",
            "B_15: float16\n",
            "S_11: float16\n",
            "D_62: float16\n",
            "D_63: category\n",
            "D_64: category\n",
            "D_65: float16\n",
            "B_16: float16\n",
            "B_17: float16\n",
            "B_18: float16\n",
            "B_19: float16\n",
            "D_66: float64\n",
            "B_20: float16\n",
            "D_68: float64\n",
            "S_12: float16\n",
            "R_6: float16\n",
            "S_13: float16\n",
            "B_21: float16\n",
            "D_69: float16\n",
            "B_22: float16\n",
            "D_70: float16\n",
            "D_71: float16\n",
            "D_72: float16\n",
            "S_15: float16\n",
            "B_23: float16\n",
            "D_73: float16\n",
            "P_4: float16\n",
            "D_74: float16\n",
            "D_75: float16\n",
            "D_76: float16\n",
            "B_24: float16\n",
            "R_7: float16\n",
            "D_77: float16\n",
            "B_25: float16\n",
            "B_26: float16\n",
            "D_78: float16\n",
            "D_79: float16\n",
            "R_8: float16\n",
            "R_9: float16\n",
            "S_16: float16\n",
            "D_80: float16\n",
            "R_10: float16\n",
            "R_11: float16\n",
            "B_27: float16\n",
            "D_81: float16\n",
            "D_82: float16\n",
            "S_17: float16\n",
            "R_12: float16\n",
            "B_28: float16\n",
            "R_13: float16\n",
            "D_83: float16\n",
            "R_14: float16\n",
            "R_15: float16\n",
            "D_84: float16\n",
            "R_16: float16\n",
            "B_29: float16\n",
            "B_30: float64\n",
            "S_18: float16\n",
            "D_86: float16\n",
            "D_87: float16\n",
            "R_17: float16\n",
            "R_18: float16\n",
            "D_88: float16\n",
            "B_31: float16\n",
            "S_19: float16\n",
            "R_19: float16\n",
            "B_32: float16\n",
            "S_20: float16\n",
            "R_20: float16\n",
            "R_21: float16\n",
            "B_33: float16\n",
            "D_89: float16\n",
            "R_22: float16\n",
            "R_23: float16\n",
            "D_91: float16\n",
            "D_92: float16\n",
            "D_93: float16\n",
            "D_94: float16\n",
            "R_24: float16\n",
            "R_25: float16\n",
            "D_96: float16\n",
            "S_22: float16\n",
            "S_23: float16\n",
            "S_24: float16\n",
            "S_25: float16\n",
            "S_26: float16\n",
            "D_102: float16\n",
            "D_103: float16\n",
            "D_104: float16\n",
            "D_105: float16\n",
            "D_106: float16\n",
            "D_107: float16\n",
            "B_36: float16\n",
            "B_37: float16\n",
            "R_26: float16\n",
            "R_27: float16\n",
            "B_38: float64\n",
            "D_108: float16\n",
            "D_109: float16\n",
            "D_110: float16\n",
            "D_111: float16\n",
            "B_39: float16\n",
            "D_112: float16\n",
            "B_40: float16\n",
            "S_27: float16\n",
            "D_113: float16\n",
            "D_114: float64\n",
            "D_115: float16\n",
            "D_116: float64\n",
            "D_117: float64\n",
            "D_118: float16\n",
            "D_119: float16\n",
            "D_120: float64\n",
            "D_121: float16\n",
            "D_122: float16\n",
            "D_123: float16\n",
            "D_124: float16\n",
            "D_125: float16\n",
            "D_126: float64\n",
            "D_127: float16\n",
            "D_128: float16\n",
            "D_129: float16\n",
            "B_41: float16\n",
            "B_42: float16\n",
            "D_130: float16\n",
            "D_131: float16\n",
            "D_132: float16\n",
            "D_133: float16\n",
            "R_28: float16\n",
            "D_134: float16\n",
            "D_135: float16\n",
            "D_136: float16\n",
            "D_137: float16\n",
            "D_138: float16\n",
            "D_139: float16\n",
            "D_140: float16\n",
            "D_141: float16\n",
            "D_142: float16\n",
            "D_143: float16\n",
            "D_144: float16\n",
            "D_145: float16\n",
            "target: int64\n"
          ]
        }
      ],
      "source": [
        "for col in train1.columns:\n",
        "    print(f\"{col}: {train1[col].dtype}\")"
      ]
    },
    {
      "cell_type": "markdown",
      "metadata": {
        "id": "c7kyxk8h-rNu"
      },
      "source": [
        "This columns are categorical columns\n",
        "\n",
        "['B_30', 'B_38', 'D_114', 'D_116', 'D_117', 'D_120', 'D_126', 'D_63', 'D_64', 'D_66', 'D_68']"
      ]
    },
    {
      "cell_type": "code",
      "execution_count": null,
      "metadata": {
        "id": "QU2y6pNf_Qms"
      },
      "outputs": [],
      "source": [
        "def to_categorical(df, categorical_cols):\n",
        "    for col in categorical_cols:\n",
        "        if col in df.columns:\n",
        "            df[col] = pd.Categorical(df[col])\n",
        "        else:\n",
        "            print(f\"Warning: Column '{col}' not found in DataFrame.\")\n",
        "    return df\n",
        "\n",
        "categorical_cols = ['B_30', 'B_38', 'D_114', 'D_116', 'D_117', 'D_120', 'D_126', 'D_63', 'D_64', 'D_66', 'D_68']\n",
        "train1 = to_categorical(train1, categorical_cols)"
      ]
    },
    {
      "cell_type": "code",
      "execution_count": null,
      "metadata": {
        "colab": {
          "base_uri": "https://localhost:8080/"
        },
        "id": "uHGqZjKc-cqz",
        "outputId": "0101ad9f-bc8a-4e7f-b3d9-a4cac423d2b6"
      },
      "outputs": [
        {
          "name": "stdout",
          "output_type": "stream",
          "text": [
            "<class 'pandas.core.frame.DataFrame'>\n",
            "Int64Index: 446255 entries, 10 to 5531448\n",
            "Data columns (total 11 columns):\n",
            " #   Column  Non-Null Count   Dtype   \n",
            "---  ------  --------------   -----   \n",
            " 0   B_30    446113 non-null  category\n",
            " 1   B_38    446113 non-null  category\n",
            " 2   D_114   432283 non-null  category\n",
            " 3   D_116   432283 non-null  category\n",
            " 4   D_117   432283 non-null  category\n",
            " 5   D_120   432283 non-null  category\n",
            " 6   D_126   446255 non-null  category\n",
            " 7   D_63    446255 non-null  category\n",
            " 8   D_64    446255 non-null  category\n",
            " 9   D_66    49788 non-null   category\n",
            " 10  D_68    429353 non-null  category\n",
            "dtypes: category(11)\n",
            "memory usage: 8.1 MB\n"
          ]
        }
      ],
      "source": [
        "train1[['B_30', 'B_38', 'D_114', 'D_116', 'D_117', 'D_120', 'D_126', 'D_63', 'D_64', 'D_66', 'D_68']].info()"
      ]
    },
    {
      "cell_type": "code",
      "execution_count": null,
      "metadata": {
        "colab": {
          "base_uri": "https://localhost:8080/",
          "height": 411
        },
        "id": "u06D2gyOpSGD",
        "outputId": "344fe37e-e3be-4484-a937-be24d82b1c5c"
      },
      "outputs": [
        {
          "data": {
            "text/html": [
              "<div>\n",
              "<style scoped>\n",
              "    .dataframe tbody tr th:only-of-type {\n",
              "        vertical-align: middle;\n",
              "    }\n",
              "\n",
              "    .dataframe tbody tr th {\n",
              "        vertical-align: top;\n",
              "    }\n",
              "\n",
              "    .dataframe thead th {\n",
              "        text-align: right;\n",
              "    }\n",
              "</style>\n",
              "<table border=\"1\" class=\"dataframe\">\n",
              "  <thead>\n",
              "    <tr style=\"text-align: right;\">\n",
              "      <th></th>\n",
              "      <th>Missing values</th>\n",
              "      <th>Percentage of missing</th>\n",
              "      <th>Data Type</th>\n",
              "    </tr>\n",
              "  </thead>\n",
              "  <tbody>\n",
              "    <tr>\n",
              "      <th>D_87</th>\n",
              "      <td>445942</td>\n",
              "      <td>99.929861</td>\n",
              "      <td>float16</td>\n",
              "    </tr>\n",
              "    <tr>\n",
              "      <th>D_88</th>\n",
              "      <td>445707</td>\n",
              "      <td>99.877200</td>\n",
              "      <td>float16</td>\n",
              "    </tr>\n",
              "    <tr>\n",
              "      <th>D_108</th>\n",
              "      <td>444090</td>\n",
              "      <td>99.514851</td>\n",
              "      <td>float16</td>\n",
              "    </tr>\n",
              "    <tr>\n",
              "      <th>D_111</th>\n",
              "      <td>442892</td>\n",
              "      <td>99.246395</td>\n",
              "      <td>float16</td>\n",
              "    </tr>\n",
              "    <tr>\n",
              "      <th>D_110</th>\n",
              "      <td>442892</td>\n",
              "      <td>99.246395</td>\n",
              "      <td>float16</td>\n",
              "    </tr>\n",
              "    <tr>\n",
              "      <th>...</th>\n",
              "      <td>...</td>\n",
              "      <td>...</td>\n",
              "      <td>...</td>\n",
              "    </tr>\n",
              "    <tr>\n",
              "      <th>B_24</th>\n",
              "      <td>0</td>\n",
              "      <td>0.000000</td>\n",
              "      <td>float16</td>\n",
              "    </tr>\n",
              "    <tr>\n",
              "      <th>D_75</th>\n",
              "      <td>0</td>\n",
              "      <td>0.000000</td>\n",
              "      <td>float16</td>\n",
              "    </tr>\n",
              "    <tr>\n",
              "      <th>P_4</th>\n",
              "      <td>0</td>\n",
              "      <td>0.000000</td>\n",
              "      <td>float16</td>\n",
              "    </tr>\n",
              "    <tr>\n",
              "      <th>B_23</th>\n",
              "      <td>0</td>\n",
              "      <td>0.000000</td>\n",
              "      <td>float16</td>\n",
              "    </tr>\n",
              "    <tr>\n",
              "      <th>target</th>\n",
              "      <td>0</td>\n",
              "      <td>0.000000</td>\n",
              "      <td>int64</td>\n",
              "    </tr>\n",
              "  </tbody>\n",
              "</table>\n",
              "<p>191 rows × 3 columns</p>\n",
              "</div>"
            ],
            "text/plain": [
              "        Missing values  Percentage of missing Data Type\n",
              "D_87            445942              99.929861   float16\n",
              "D_88            445707              99.877200   float16\n",
              "D_108           444090              99.514851   float16\n",
              "D_111           442892              99.246395   float16\n",
              "D_110           442892              99.246395   float16\n",
              "...                ...                    ...       ...\n",
              "B_24                 0               0.000000   float16\n",
              "D_75                 0               0.000000   float16\n",
              "P_4                  0               0.000000   float16\n",
              "B_23                 0               0.000000   float16\n",
              "target               0               0.000000     int64\n",
              "\n",
              "[191 rows x 3 columns]"
            ]
          },
          "execution_count": 11,
          "metadata": {},
          "output_type": "execute_result"
        }
      ],
      "source": [
        "train_data_quality  = pd.DataFrame({'Missing values':train1.isnull().sum(),'Percentage of missing': (train1.isnull().sum()/len(train))*100,'Data Type':train1.dtypes})\n",
        "train_data_quality.sort_values('Percentage of missing',ascending=False)"
      ]
    },
    {
      "cell_type": "code",
      "execution_count": null,
      "metadata": {
        "colab": {
          "base_uri": "https://localhost:8080/",
          "height": 383
        },
        "id": "c-ySgVRr-OmJ",
        "outputId": "c7ffff98-76f7-4ce4-ffcb-5e3e7a8d20bc"
      },
      "outputs": [
        {
          "data": {
            "text/html": [
              "<div>\n",
              "<style scoped>\n",
              "    .dataframe tbody tr th:only-of-type {\n",
              "        vertical-align: middle;\n",
              "    }\n",
              "\n",
              "    .dataframe tbody tr th {\n",
              "        vertical-align: top;\n",
              "    }\n",
              "\n",
              "    .dataframe thead th {\n",
              "        text-align: right;\n",
              "    }\n",
              "</style>\n",
              "<table border=\"1\" class=\"dataframe\">\n",
              "  <thead>\n",
              "    <tr style=\"text-align: right;\">\n",
              "      <th></th>\n",
              "      <th>Missing values</th>\n",
              "      <th>Percentage of missing</th>\n",
              "      <th>Data Type</th>\n",
              "    </tr>\n",
              "  </thead>\n",
              "  <tbody>\n",
              "    <tr>\n",
              "      <th>D_63</th>\n",
              "      <td>0</td>\n",
              "      <td>0.000000</td>\n",
              "      <td>category</td>\n",
              "    </tr>\n",
              "    <tr>\n",
              "      <th>D_64</th>\n",
              "      <td>0</td>\n",
              "      <td>0.000000</td>\n",
              "      <td>category</td>\n",
              "    </tr>\n",
              "    <tr>\n",
              "      <th>D_66</th>\n",
              "      <td>396467</td>\n",
              "      <td>88.843150</td>\n",
              "      <td>category</td>\n",
              "    </tr>\n",
              "    <tr>\n",
              "      <th>D_68</th>\n",
              "      <td>16902</td>\n",
              "      <td>3.787521</td>\n",
              "      <td>category</td>\n",
              "    </tr>\n",
              "    <tr>\n",
              "      <th>B_30</th>\n",
              "      <td>142</td>\n",
              "      <td>0.031820</td>\n",
              "      <td>category</td>\n",
              "    </tr>\n",
              "    <tr>\n",
              "      <th>B_38</th>\n",
              "      <td>142</td>\n",
              "      <td>0.031820</td>\n",
              "      <td>category</td>\n",
              "    </tr>\n",
              "    <tr>\n",
              "      <th>D_114</th>\n",
              "      <td>13972</td>\n",
              "      <td>3.130945</td>\n",
              "      <td>category</td>\n",
              "    </tr>\n",
              "    <tr>\n",
              "      <th>D_116</th>\n",
              "      <td>13972</td>\n",
              "      <td>3.130945</td>\n",
              "      <td>category</td>\n",
              "    </tr>\n",
              "    <tr>\n",
              "      <th>D_117</th>\n",
              "      <td>13972</td>\n",
              "      <td>3.130945</td>\n",
              "      <td>category</td>\n",
              "    </tr>\n",
              "    <tr>\n",
              "      <th>D_120</th>\n",
              "      <td>13972</td>\n",
              "      <td>3.130945</td>\n",
              "      <td>category</td>\n",
              "    </tr>\n",
              "    <tr>\n",
              "      <th>D_126</th>\n",
              "      <td>0</td>\n",
              "      <td>0.000000</td>\n",
              "      <td>category</td>\n",
              "    </tr>\n",
              "  </tbody>\n",
              "</table>\n",
              "</div>"
            ],
            "text/plain": [
              "       Missing values  Percentage of missing Data Type\n",
              "D_63                0               0.000000  category\n",
              "D_64                0               0.000000  category\n",
              "D_66           396467              88.843150  category\n",
              "D_68            16902               3.787521  category\n",
              "B_30              142               0.031820  category\n",
              "B_38              142               0.031820  category\n",
              "D_114           13972               3.130945  category\n",
              "D_116           13972               3.130945  category\n",
              "D_117           13972               3.130945  category\n",
              "D_120           13972               3.130945  category\n",
              "D_126               0               0.000000  category"
            ]
          },
          "execution_count": 12,
          "metadata": {},
          "output_type": "execute_result"
        }
      ],
      "source": [
        "train_data_quality[train_data_quality['Data Type'] == 'category']\n"
      ]
    },
    {
      "cell_type": "code",
      "execution_count": null,
      "metadata": {
        "colab": {
          "base_uri": "https://localhost:8080/"
        },
        "id": "kncB6R5YxUAY",
        "outputId": "d38f60ec-f140-4f4b-cefb-6b4137eeb4bc"
      },
      "outputs": [
        {
          "data": {
            "text/plain": [
              "(446255, 191)"
            ]
          },
          "execution_count": 13,
          "metadata": {},
          "output_type": "execute_result"
        }
      ],
      "source": [
        "train1.shape # Unique customers"
      ]
    },
    {
      "cell_type": "markdown",
      "metadata": {
        "id": "sxZbWMn6wlCy"
      },
      "source": [
        "# 2. EDA Refer other notebook"
      ]
    },
    {
      "cell_type": "markdown",
      "metadata": {
        "id": "3IooOAcIyvyy"
      },
      "source": [
        "# 3. IDENTIFYING STRATERGY FOR OUTLIER DETECTION AND FILLING MISSING VALUES\n",
        "\n",
        "1. I am deciding my stratergy to either first remove outliers and perform imputation or vise verca\n",
        "\n",
        "2. Secondly, I want to build pipeline for the handelling during deployment.\n",
        "\n",
        "  A. One pipeline start with Imputation and then Outlier Handling\n",
        "\n",
        "  B. Other Pipeline with Outlier Handling first and then Imputation\n",
        "\n",
        "  C. Decide and finalize which approach has better validation results"
      ]
    },
    {
      "cell_type": "code",
      "execution_count": null,
      "metadata": {
        "colab": {
          "base_uri": "https://localhost:8080/",
          "height": 417
        },
        "id": "Kr4ihB6ZwKR7",
        "outputId": "64b1201f-c6c8-424e-acac-9b437b259ceb"
      },
      "outputs": [
        {
          "data": {
            "text/plain": [
              "<Axes: >"
            ]
          },
          "execution_count": 16,
          "metadata": {},
          "output_type": "execute_result"
        },
        {
          "data": {
            "image/png": "[encoded data removed]",
            "text/plain": [
              "<Figure size 2500x1000 with 2 Axes>"
            ]
          },
          "metadata": {},
          "output_type": "display_data"
        }
      ],
      "source": [
        "import missingno as msno\n",
        "msno.matrix(train1)\n"
      ]
    },
    {
      "cell_type": "markdown",
      "metadata": {
        "id": "ERFYRrXoBnoa"
      },
      "source": [
        "# IMPUTATION STRATERGY\n",
        "*"
      ]
    },
    {
      "cell_type": "code",
      "execution_count": null,
      "metadata": {
        "id": "NFYDh_0Mq6cH"
      },
      "outputs": [],
      "source": [
        "import pandas as pd\n",
        "import numpy as np\n",
        "from sklearn.experimental import enable_iterative_imputer\n",
        "from sklearn.impute import IterativeImputer, SimpleImputer\n",
        "from sklearn.compose import ColumnTransformer\n",
        "from sklearn.pipeline import Pipeline\n",
        "\n",
        "\n",
        "categorical_cols = ['B_30', 'B_38', 'D_114', 'D_116', 'D_117', 'D_120', 'D_126',\n",
        "                    'D_63', 'D_64', 'D_66', 'D_68']\n",
        "non_processed_cols = ['S_2', 'customer_ID', 'target']\n",
        "continuous_cols = [col for col in train1.columns if col not in categorical_cols + non_processed_cols]\n",
        "\n",
        "# Step 1: Define the imputers\n",
        "continuous_imputer = IterativeImputer(max_iter=10, random_state=42, initial_strategy='mean')\n",
        "categorical_imputer = SimpleImputer(strategy='most_frequent')\n",
        "\n",
        "# Step 2: Create the ColumnTransformer\n",
        "preprocessor = ColumnTransformer(\n",
        "    transformers=[\n",
        "        ('continuous', continuous_imputer, continuous_cols),\n",
        "        ('categorical', categorical_imputer, categorical_cols)\n",
        "    ]\n",
        ")\n",
        "\n",
        "# Step 3: Create a pipeline\n",
        "pipeline = Pipeline(steps=[\n",
        "    ('preprocessor', preprocessor)\n",
        "])\n",
        "\n",
        "# Step 4: Fit the pipeline and transform the data\n",
        "train1_imputed_array = pipeline.fit_transform(train1)\n",
        "\n",
        "transformed_columns = continuous_cols + categorical_cols\n",
        "\n",
        "train1_imputed = pd.DataFrame(train1_imputed_array, columns=transformed_columns)\n",
        "\n",
        "# Step 5: Add back non-processed columns\n",
        "train1_imputed[non_processed_cols] = train1[non_processed_cols].reset_index(drop=True)\n",
        "\n",
        "# Step 6: Ensure data types are preserved for categorical columns\n",
        "for col in categorical_cols:\n",
        "    train1_imputed[col] = train1_imputed[col].astype(train1[col].dtype)\n",
        "\n",
        "\n",
        "print(\"Training Data (Preprocessed):\")\n",
        "print(train1_imputed.head())\n"
      ]
    },
    {
      "cell_type": "markdown",
      "metadata": {
        "id": "RNLaSS6HvdN0"
      },
      "source": [
        "# 4. FEATURE SELECTION\n",
        "\n",
        "1. Identify features using Weight of Evidence, Information Value Gain, Mutual Information, Tree based Models\n",
        "\n",
        "2. Based on the features identified, use Average Rank based Approach, and Frequency based Approach and select subset of the features.\n"
      ]
    },
    {
      "cell_type": "markdown",
      "metadata": {
        "id": "JLaNs4lS5Zm4"
      },
      "source": [
        "# INFORMATION GAIN / MUTUAL INFORMATION"
      ]
    },
    {
      "cell_type": "code",
      "execution_count": null,
      "metadata": {
        "id": "RGpZqH4E1Bv5"
      },
      "outputs": [],
      "source": [
        "import pandas as pd\n",
        "import numpy as np\n",
        "from sklearn.feature_selection import mutual_info_classif\n",
        "from sklearn.preprocessing import LabelEncoder\n",
        "import matplotlib.pyplot as plt\n",
        "\n",
        "\n",
        "X = train1_imputed.drop(columns=['customer_ID', 'S_2', 'target'])\n",
        "y = train1_imputed['target']\n",
        "\n",
        "# Encode categorical variables using LabelEncoder\n",
        "for col in categorical_cols:\n",
        "    le = LabelEncoder()\n",
        "    X[col] = le.fit_transform(X[col])\n",
        "\n",
        "# Compute Mutual Information\n",
        "mi_scores = mutual_info_classif(X, y, discrete_features='auto', random_state=42)\n",
        "\n",
        "\n",
        "mi_scores = pd.Series(mi_scores, index=X.columns)\n",
        "mi_scores = mi_scores.sort_values(ascending=False)\n",
        "\n",
        "\n",
        "plt.figure(figsize=(12, 6))\n",
        "mi_scores.head(20).plot.bar()\n",
        "plt.title('Top 20 Features by Mutual Information')\n",
        "plt.ylabel('Mutual Information Score')\n",
        "plt.show()\n"
      ]
    },
    {
      "cell_type": "code",
      "execution_count": null,
      "metadata": {
        "id": "GvR4MXgX1B3K"
      },
      "outputs": [],
      "source": [
        "selected_features_mi = mi_scores.head(75).index.tolist()"
      ]
    },
    {
      "cell_type": "markdown",
      "metadata": {
        "id": "RrMaAhtg1CUQ"
      },
      "source": [
        "# WEIGHT OF EVIDEMCE & INFORMATION VALUE"
      ]
    },
    {
      "cell_type": "code",
      "execution_count": null,
      "metadata": {
        "id": "Evc0f65w5m6B"
      },
      "outputs": [],
      "source": [
        "# Function to calculate WoE and IV\n",
        "def calc_woe_iv(data, feature, target):\n",
        "    eps = 1e-10  # Small value to avoid division by zero\n",
        "    df = data[[feature, target]].copy()\n",
        "    df['bin'] = df[feature]\n",
        "\n",
        "    total_good = (df[target] == 0).sum()\n",
        "    total_bad = (df[target] == 1).sum()\n",
        "\n",
        "    grouped = df.groupby('bin')[target].agg(['count', 'sum'])\n",
        "    grouped.columns = ['total', 'bad']\n",
        "    grouped['good'] = grouped['total'] - grouped['bad']\n",
        "    grouped['bad_rate'] = grouped['bad'] / total_bad\n",
        "    grouped['good_rate'] = grouped['good'] / total_good\n",
        "    grouped['WoE'] = np.log((grouped['good_rate'] + eps) / (grouped['bad_rate'] + eps))\n",
        "    grouped['IV'] = (grouped['good_rate'] - grouped['bad_rate']) * grouped['WoE']\n",
        "\n",
        "    iv = grouped['IV'].sum()\n",
        "    return iv, grouped['WoE']\n",
        "\n",
        "\n",
        "iv_dict = {}\n",
        "woe_dict = {}\n",
        "\n",
        "from sklearn.preprocessing import KBinsDiscretizer\n",
        "\n",
        "for col in continuous_cols:\n",
        "    # Bin the variable into 10 quantiles\n",
        "    est = KBinsDiscretizer(n_bins=10, encode='ordinal', strategy='quantile')\n",
        "    binned = est.fit_transform(train1_imputed[[col]])\n",
        "    train1_imputed[f'{col}_binned'] = binned\n",
        "\n",
        "    # Calculate WoE and IV\n",
        "    iv, woe = calc_woe_iv(train1_imputed, f'{col}_binned', 'target')\n",
        "    iv_dict[col] = iv\n",
        "    woe_dict[col] = woe\n",
        "\n",
        "# For categorical variables\n",
        "for col in categorical_cols:\n",
        "    iv, woe = calc_woe_iv(train1_imputed, col, 'target')\n",
        "    iv_dict[col] = iv\n",
        "    woe_dict[col] = woe\n",
        "\n",
        "iv_values = pd.Series(iv_dict).sort_values(ascending=False)\n",
        "\n",
        "# Plot IV values\n",
        "plt.figure(figsize=(12, 6))\n",
        "iv_values.head(20).plot.bar()\n",
        "plt.title('Top 20 Features by Information Value')\n",
        "plt.ylabel('Information Value')\n",
        "plt.show()\n"
      ]
    },
    {
      "cell_type": "code",
      "execution_count": null,
      "metadata": {
        "id": "ceyIuWRY5rxi"
      },
      "outputs": [],
      "source": [
        "selected_features_iv = iv_values[iv_values >= 0.05].index.tolist()"
      ]
    },
    {
      "cell_type": "code",
      "execution_count": null,
      "metadata": {
        "id": "o-Mi7df_-4qA"
      },
      "outputs": [],
      "source": []
    },
    {
      "cell_type": "markdown",
      "metadata": {
        "id": "xigoENp_9SOG"
      },
      "source": [
        "# XGBOOST FEATURE SELECTION"
      ]
    },
    {
      "cell_type": "code",
      "execution_count": null,
      "metadata": {
        "colab": {
          "base_uri": "https://localhost:8080/",
          "height": 565
        },
        "id": "Br4EkXAkwKvL",
        "outputId": "1a99fa09-dafa-4435-aef3-a5d8962eb268"
      },
      "outputs": [
        {
          "data": {
            "image/png": "[encoded data removed]",
            "text/plain": [
              "<Figure size 1200x600 with 1 Axes>"
            ]
          },
          "metadata": {},
          "output_type": "display_data"
        }
      ],
      "source": [
        "import pandas as pd\n",
        "import numpy as np\n",
        "from sklearn.preprocessing import LabelEncoder\n",
        "from xgboost import XGBClassifier\n",
        "import matplotlib.pyplot as plt\n",
        "\n",
        "# Step 1: Remove binned columns from the DataFrame\n",
        "binned_cols = [col for col in train1_imputed.columns if col.endswith('_binned')]\n",
        "train1_imputed = train1_imputed.drop(columns=binned_cols)\n",
        "\n",
        "# Step 2: Prepare the feature set\n",
        "X = train1_imputed.drop(columns=['S_2', 'target'])\n",
        "y = train1_imputed['target']\n",
        "\n",
        "# Step 3: Encode categorical variables using LabelEncoder\n",
        "for col in categorical_cols:\n",
        "    le = LabelEncoder()\n",
        "    X[col] = le.fit_transform(X[col].astype(str))\n",
        "\n",
        "# Step 4: Ensure all columns are numeric\n",
        "for col in X.columns:\n",
        "    if X[col].dtype == 'object':\n",
        "        X[col] = pd.to_numeric(X[col], errors='coerce')\n",
        "\n",
        "# Handle any remaining object-type columns\n",
        "object_cols = X.select_dtypes(include=['object']).columns.tolist()\n",
        "if object_cols:\n",
        "    print(\"Warning: The following columns are still of object dtype and will be excluded:\", object_cols)\n",
        "    X = X.drop(columns=object_cols)\n",
        "\n",
        "# Step 5: Initialize XGBoost model without 'use_label_encoder' parameter\n",
        "model = XGBClassifier(eval_metric='logloss', random_state=42)\n",
        "\n",
        "# Step 6: Train the model\n",
        "model.fit(X, y)\n",
        "\n",
        "# Step 7: Get feature importances\n",
        "importances = pd.Series(model.feature_importances_, index=X.columns)\n",
        "importances = importances.sort_values(ascending=False)\n",
        "\n",
        "# Step 8: Plot feature importances\n",
        "plt.figure(figsize=(12, 6))\n",
        "importances.head(20).plot.bar()\n",
        "plt.title('Top 20 Features by XGBoost Importance')\n",
        "plt.ylabel('Importance Score')\n",
        "plt.show()\n",
        "\n",
        "# Step 9: Select top features\n",
        "selected_features_tree = importances.head(50).index.tolist()\n"
      ]
    },
    {
      "cell_type": "code",
      "execution_count": null,
      "metadata": {
        "id": "64ftN6awgJUL"
      },
      "outputs": [],
      "source": [
        "selected_features_tree = importances.head(50).index.tolist()"
      ]
    },
    {
      "cell_type": "code",
      "execution_count": null,
      "metadata": {
        "colab": {
          "base_uri": "https://localhost:8080/"
        },
        "id": "IScPf0jXHZf8",
        "outputId": "433204fe-6a10-4dab-af13-43f8f432e2a6"
      },
      "outputs": [
        {
          "data": {
            "text/plain": [
              "['R_3',\n",
              " 'D_110',\n",
              " 'B_1',\n",
              " 'D_51',\n",
              " 'D_44',\n",
              " 'D_62',\n",
              " 'D_56',\n",
              " 'S_24',\n",
              " 'S_3',\n",
              " 'B_11',\n",
              " 'D_106',\n",
              " 'D_43',\n",
              " 'D_114',\n",
              " 'B_2',\n",
              " 'D_47',\n",
              " 'D_50',\n",
              " 'D_64',\n",
              " 'B_8',\n",
              " 'B_9',\n",
              " 'D_77',\n",
              " 'D_39',\n",
              " 'B_38',\n",
              " 'S_23',\n",
              " 'P_2',\n",
              " 'B_3',\n",
              " 'B_4',\n",
              " 'D_45',\n",
              " 'B_7',\n",
              " 'S_9',\n",
              " 'B_14',\n",
              " 'R_1',\n",
              " 'P_3',\n",
              " 'B_16',\n",
              " 'B_37',\n",
              " 'D_48',\n",
              " 'R_26',\n",
              " 'D_41',\n",
              " 'S_7']"
            ]
          },
          "execution_count": 22,
          "metadata": {},
          "output_type": "execute_result"
        }
      ],
      "source": [
        "# Intersection of features\n",
        "selected_features = list(set(selected_features_mi) & set(selected_features_iv) & set(selected_features_tree))\n",
        "selected_features"
      ]
    },
    {
      "cell_type": "code",
      "execution_count": null,
      "metadata": {
        "colab": {
          "base_uri": "https://localhost:8080/"
        },
        "id": "-fSlR_En_qCm",
        "outputId": "943e5097-a03d-4165-fe6f-07ab2f3273fd"
      },
      "outputs": [
        {
          "data": {
            "text/plain": [
              "141"
            ]
          },
          "execution_count": 25,
          "metadata": {},
          "output_type": "execute_result"
        }
      ],
      "source": [
        "len(selected_features) #Intersection"
      ]
    },
    {
      "cell_type": "code",
      "execution_count": null,
      "metadata": {
        "colab": {
          "base_uri": "https://localhost:8080/"
        },
        "id": "EuJz0UVVHZis",
        "outputId": "b131bf99-2cbd-48e2-8e68-d814f3dab791"
      },
      "outputs": [
        {
          "data": {
            "text/plain": [
              "['B_7',\n",
              " 'D_112',\n",
              " 'S_6',\n",
              " 'D_61',\n",
              " 'D_88',\n",
              " 'D_105',\n",
              " 'S_7',\n",
              " 'P_3',\n",
              " 'S_23',\n",
              " 'D_64',\n",
              " 'B_3',\n",
              " 'D_110',\n",
              " 'D_74',\n",
              " 'D_70',\n",
              " 'D_87',\n",
              " 'D_78',\n",
              " 'D_126',\n",
              " 'D_60',\n",
              " 'D_84',\n",
              " 'P_2',\n",
              " 'D_103',\n",
              " 'R_10',\n",
              " 'D_145',\n",
              " 'B_5',\n",
              " 'D_136',\n",
              " 'D_65',\n",
              " 'S_3',\n",
              " 'D_76',\n",
              " 'D_52',\n",
              " 'D_118',\n",
              " 'D_117',\n",
              " 'B_37',\n",
              " 'B_1',\n",
              " 'D_58',\n",
              " 'D_75',\n",
              " 'D_138',\n",
              " 'B_14',\n",
              " 'D_53',\n",
              " 'D_113',\n",
              " 'R_7',\n",
              " 'B_29',\n",
              " 'B_42',\n",
              " 'R_6',\n",
              " 'R_27',\n",
              " 'S_8',\n",
              " 'D_39',\n",
              " 'D_63',\n",
              " 'D_106',\n",
              " 'D_51',\n",
              " 'B_6',\n",
              " 'B_19',\n",
              " 'D_79',\n",
              " 'D_41',\n",
              " 'D_121',\n",
              " 'R_1',\n",
              " 'D_50',\n",
              " 'B_39',\n",
              " 'D_49',\n",
              " 'S_26',\n",
              " 'D_141',\n",
              " 'D_130',\n",
              " 'S_22',\n",
              " 'D_62',\n",
              " 'D_132',\n",
              " 'D_119',\n",
              " 'B_18',\n",
              " 'S_9',\n",
              " 'D_56',\n",
              " 'D_111',\n",
              " 'D_104',\n",
              " 'D_139',\n",
              " 'B_22',\n",
              " 'S_11',\n",
              " 'D_42',\n",
              " 'P_4',\n",
              " 'B_38',\n",
              " 'D_114',\n",
              " 'D_92',\n",
              " 'S_24',\n",
              " 'B_11',\n",
              " 'B_23',\n",
              " 'D_59',\n",
              " 'B_10',\n",
              " 'D_142',\n",
              " 'D_91',\n",
              " 'B_33',\n",
              " 'B_28',\n",
              " 'D_102',\n",
              " 'D_143',\n",
              " 'B_16',\n",
              " 'B_26',\n",
              " 'D_82',\n",
              " 'B_13',\n",
              " 'D_127',\n",
              " 'D_120',\n",
              " 'D_68',\n",
              " 'D_43',\n",
              " 'S_25',\n",
              " 'B_31',\n",
              " 'B_20',\n",
              " 'R_2',\n",
              " 'D_81',\n",
              " 'D_44',\n",
              " 'R_16',\n",
              " 'D_129',\n",
              " 'B_9',\n",
              " 'D_73',\n",
              " 'D_107',\n",
              " 'D_47',\n",
              " 'R_4',\n",
              " 'D_55',\n",
              " 'D_122',\n",
              " 'D_131',\n",
              " 'D_77',\n",
              " 'D_134',\n",
              " 'R_5',\n",
              " 'B_2',\n",
              " 'B_30',\n",
              " 'D_45',\n",
              " 'B_17',\n",
              " 'B_12',\n",
              " 'R_26',\n",
              " 'D_46',\n",
              " 'D_72',\n",
              " 'S_13',\n",
              " 'B_4',\n",
              " 'B_8',\n",
              " 'B_25',\n",
              " 'D_115',\n",
              " 'S_27',\n",
              " 'D_54',\n",
              " 'B_40',\n",
              " 'R_9',\n",
              " 'S_15',\n",
              " 'R_3',\n",
              " 'D_133',\n",
              " 'S_5',\n",
              " 'D_48',\n",
              " 'D_71',\n",
              " 'R_8',\n",
              " 'D_128']"
            ]
          },
          "execution_count": 24,
          "metadata": {},
          "output_type": "execute_result"
        }
      ],
      "source": [
        "# Union of features\n",
        "selected_features = list(set(selected_features_mi) | set(selected_features_iv) | set(selected_features_tree))\n",
        "selected_features"
      ]
    },
    {
      "cell_type": "code",
      "execution_count": null,
      "metadata": {
        "colab": {
          "base_uri": "https://localhost:8080/"
        },
        "id": "r4miK3NS_qFT",
        "outputId": "75d6fc01-3f40-4721-8aa6-28b2201ba35b"
      },
      "outputs": [
        {
          "data": {
            "text/plain": [
              "141"
            ]
          },
          "execution_count": 29,
          "metadata": {},
          "output_type": "execute_result"
        }
      ],
      "source": [
        "len(selected_features) #Union"
      ]
    },
    {
      "cell_type": "code",
      "execution_count": null,
      "metadata": {
        "id": "ngXNFB1fotJS"
      },
      "outputs": [],
      "source": [
        "# This data is been imputed.\n",
        "\n",
        "parquet_file_path = '/home/hxk831/Personal Projects/train1_imputed.parquet'\n",
        "train1_imputed_df = pd.read_parquet(parquet_file_path)\n"
      ]
    },
    {
      "cell_type": "code",
      "execution_count": null,
      "metadata": {
        "colab": {
          "base_uri": "https://localhost:8080/",
          "height": 596
        },
        "id": "RJhygu2LqWuX",
        "outputId": "84debe3a-eed9-4785-cba0-71937b245aff"
      },
      "outputs": [
        {
          "data": {
            "text/html": [
              "<div>\n",
              "<style scoped>\n",
              "    .dataframe tbody tr th:only-of-type {\n",
              "        vertical-align: middle;\n",
              "    }\n",
              "\n",
              "    .dataframe tbody tr th {\n",
              "        vertical-align: top;\n",
              "    }\n",
              "\n",
              "    .dataframe thead th {\n",
              "        text-align: right;\n",
              "    }\n",
              "</style>\n",
              "<table border=\"1\" class=\"dataframe\">\n",
              "  <thead>\n",
              "    <tr style=\"text-align: right;\">\n",
              "      <th></th>\n",
              "      <th>P_2</th>\n",
              "      <th>D_39</th>\n",
              "      <th>B_1</th>\n",
              "      <th>B_2</th>\n",
              "      <th>R_1</th>\n",
              "      <th>S_3</th>\n",
              "      <th>D_41</th>\n",
              "      <th>B_3</th>\n",
              "      <th>D_42</th>\n",
              "      <th>D_43</th>\n",
              "      <th>...</th>\n",
              "      <th>D_117</th>\n",
              "      <th>D_120</th>\n",
              "      <th>D_126</th>\n",
              "      <th>D_63</th>\n",
              "      <th>D_64</th>\n",
              "      <th>D_66</th>\n",
              "      <th>D_68</th>\n",
              "      <th>S_2</th>\n",
              "      <th>customer_ID</th>\n",
              "      <th>target</th>\n",
              "    </tr>\n",
              "  </thead>\n",
              "  <tbody>\n",
              "    <tr>\n",
              "      <th>0</th>\n",
              "      <td>0.909668</td>\n",
              "      <td>0.005714</td>\n",
              "      <td>0.002829</td>\n",
              "      <td>1.004883</td>\n",
              "      <td>0.008179</td>\n",
              "      <td>0.098877</td>\n",
              "      <td>0.001853</td>\n",
              "      <td>0.003239</td>\n",
              "      <td>1.113281</td>\n",
              "      <td>0.024063</td>\n",
              "      <td>...</td>\n",
              "      <td>4.0</td>\n",
              "      <td>0.0</td>\n",
              "      <td>1.0</td>\n",
              "      <td>CR</td>\n",
              "      <td>O</td>\n",
              "      <td>1.0</td>\n",
              "      <td>6.0</td>\n",
              "      <td>2018-01-11</td>\n",
              "      <td>0000099d6bd597052cdcda90ffabf56573fe9d7c79be5f...</td>\n",
              "      <td>0</td>\n",
              "    </tr>\n",
              "    <tr>\n",
              "      <th>1</th>\n",
              "      <td>0.880859</td>\n",
              "      <td>0.211670</td>\n",
              "      <td>0.010582</td>\n",
              "      <td>1.001953</td>\n",
              "      <td>0.005955</td>\n",
              "      <td>0.130127</td>\n",
              "      <td>0.003628</td>\n",
              "      <td>0.002802</td>\n",
              "      <td>0.482178</td>\n",
              "      <td>0.065247</td>\n",
              "      <td>...</td>\n",
              "      <td>-1.0</td>\n",
              "      <td>1.0</td>\n",
              "      <td>1.0</td>\n",
              "      <td>CO</td>\n",
              "      <td>O</td>\n",
              "      <td>1.0</td>\n",
              "      <td>6.0</td>\n",
              "      <td>2018-01-26</td>\n",
              "      <td>00000fd6641609c6ece5454664794f0340ad84dddce9a2...</td>\n",
              "      <td>0</td>\n",
              "    </tr>\n",
              "    <tr>\n",
              "      <th>2</th>\n",
              "      <td>0.899414</td>\n",
              "      <td>0.004372</td>\n",
              "      <td>0.003450</td>\n",
              "      <td>0.813965</td>\n",
              "      <td>0.007408</td>\n",
              "      <td>0.296875</td>\n",
              "      <td>0.008377</td>\n",
              "      <td>0.003839</td>\n",
              "      <td>0.569336</td>\n",
              "      <td>0.038391</td>\n",
              "      <td>...</td>\n",
              "      <td>-1.0</td>\n",
              "      <td>0.0</td>\n",
              "      <td>1.0</td>\n",
              "      <td>CO</td>\n",
              "      <td>R</td>\n",
              "      <td>1.0</td>\n",
              "      <td>6.0</td>\n",
              "      <td>2018-01-12</td>\n",
              "      <td>00001b22f846c82c51f6e3958ccd81970162bae8b007e8...</td>\n",
              "      <td>0</td>\n",
              "    </tr>\n",
              "    <tr>\n",
              "      <th>3</th>\n",
              "      <td>0.614746</td>\n",
              "      <td>0.002249</td>\n",
              "      <td>0.025116</td>\n",
              "      <td>0.968750</td>\n",
              "      <td>0.009651</td>\n",
              "      <td>0.302979</td>\n",
              "      <td>0.007492</td>\n",
              "      <td>0.008408</td>\n",
              "      <td>0.415039</td>\n",
              "      <td>0.052521</td>\n",
              "      <td>...</td>\n",
              "      <td>6.0</td>\n",
              "      <td>0.0</td>\n",
              "      <td>1.0</td>\n",
              "      <td>CO</td>\n",
              "      <td>O</td>\n",
              "      <td>1.0</td>\n",
              "      <td>3.0</td>\n",
              "      <td>2018-01-18</td>\n",
              "      <td>000041bdba6ecadd89a52d11886e8eaaec9325906c9723...</td>\n",
              "      <td>0</td>\n",
              "    </tr>\n",
              "    <tr>\n",
              "      <th>4</th>\n",
              "      <td>0.881348</td>\n",
              "      <td>0.000722</td>\n",
              "      <td>0.009804</td>\n",
              "      <td>0.813477</td>\n",
              "      <td>0.009079</td>\n",
              "      <td>0.297852</td>\n",
              "      <td>0.005905</td>\n",
              "      <td>0.000049</td>\n",
              "      <td>0.382324</td>\n",
              "      <td>0.043671</td>\n",
              "      <td>...</td>\n",
              "      <td>4.0</td>\n",
              "      <td>0.0</td>\n",
              "      <td>1.0</td>\n",
              "      <td>CO</td>\n",
              "      <td>O</td>\n",
              "      <td>1.0</td>\n",
              "      <td>6.0</td>\n",
              "      <td>2018-01-30</td>\n",
              "      <td>00007889e4fcd2614b6cbe7f8f3d2e5c728eca32d9eb8a...</td>\n",
              "      <td>0</td>\n",
              "    </tr>\n",
              "    <tr>\n",
              "      <th>...</th>\n",
              "      <td>...</td>\n",
              "      <td>...</td>\n",
              "      <td>...</td>\n",
              "      <td>...</td>\n",
              "      <td>...</td>\n",
              "      <td>...</td>\n",
              "      <td>...</td>\n",
              "      <td>...</td>\n",
              "      <td>...</td>\n",
              "      <td>...</td>\n",
              "      <td>...</td>\n",
              "      <td>...</td>\n",
              "      <td>...</td>\n",
              "      <td>...</td>\n",
              "      <td>...</td>\n",
              "      <td>...</td>\n",
              "      <td>...</td>\n",
              "      <td>...</td>\n",
              "      <td>...</td>\n",
              "      <td>...</td>\n",
              "      <td>...</td>\n",
              "    </tr>\n",
              "    <tr>\n",
              "      <th>446250</th>\n",
              "      <td>0.837891</td>\n",
              "      <td>0.008263</td>\n",
              "      <td>0.013161</td>\n",
              "      <td>1.006836</td>\n",
              "      <td>0.005756</td>\n",
              "      <td>0.133911</td>\n",
              "      <td>0.005955</td>\n",
              "      <td>0.007393</td>\n",
              "      <td>0.348877</td>\n",
              "      <td>0.130737</td>\n",
              "      <td>...</td>\n",
              "      <td>4.0</td>\n",
              "      <td>1.0</td>\n",
              "      <td>1.0</td>\n",
              "      <td>CO</td>\n",
              "      <td>U</td>\n",
              "      <td>1.0</td>\n",
              "      <td>6.0</td>\n",
              "      <td>2018-01-16</td>\n",
              "      <td>ffff41c8a52833b56430603969b9ca48d208e7c192c6a4...</td>\n",
              "      <td>0</td>\n",
              "    </tr>\n",
              "    <tr>\n",
              "      <th>446251</th>\n",
              "      <td>0.856445</td>\n",
              "      <td>0.036163</td>\n",
              "      <td>0.319092</td>\n",
              "      <td>0.044739</td>\n",
              "      <td>0.008858</td>\n",
              "      <td>0.325439</td>\n",
              "      <td>0.005020</td>\n",
              "      <td>0.256104</td>\n",
              "      <td>1.014648</td>\n",
              "      <td>0.041016</td>\n",
              "      <td>...</td>\n",
              "      <td>2.0</td>\n",
              "      <td>0.0</td>\n",
              "      <td>1.0</td>\n",
              "      <td>CO</td>\n",
              "      <td>R</td>\n",
              "      <td>1.0</td>\n",
              "      <td>6.0</td>\n",
              "      <td>2018-01-22</td>\n",
              "      <td>ffff518bb2075e4816ee3fe9f3b152c57fc0e6f01bf7fd...</td>\n",
              "      <td>0</td>\n",
              "    </tr>\n",
              "    <tr>\n",
              "      <th>446252</th>\n",
              "      <td>0.794434</td>\n",
              "      <td>0.384766</td>\n",
              "      <td>0.027100</td>\n",
              "      <td>1.000977</td>\n",
              "      <td>0.005398</td>\n",
              "      <td>0.075806</td>\n",
              "      <td>0.000377</td>\n",
              "      <td>0.004890</td>\n",
              "      <td>0.449219</td>\n",
              "      <td>0.054230</td>\n",
              "      <td>...</td>\n",
              "      <td>-1.0</td>\n",
              "      <td>0.0</td>\n",
              "      <td>1.0</td>\n",
              "      <td>CO</td>\n",
              "      <td>U</td>\n",
              "      <td>1.0</td>\n",
              "      <td>5.0</td>\n",
              "      <td>2018-01-11</td>\n",
              "      <td>ffff9984b999fccb2b6127635ed0736dda94e544e67e02...</td>\n",
              "      <td>0</td>\n",
              "    </tr>\n",
              "    <tr>\n",
              "      <th>446253</th>\n",
              "      <td>0.787598</td>\n",
              "      <td>0.030945</td>\n",
              "      <td>0.015511</td>\n",
              "      <td>0.209473</td>\n",
              "      <td>0.008003</td>\n",
              "      <td>0.609375</td>\n",
              "      <td>0.008972</td>\n",
              "      <td>0.083679</td>\n",
              "      <td>0.383057</td>\n",
              "      <td>0.049744</td>\n",
              "      <td>...</td>\n",
              "      <td>-1.0</td>\n",
              "      <td>0.0</td>\n",
              "      <td>1.0</td>\n",
              "      <td>CO</td>\n",
              "      <td>R</td>\n",
              "      <td>1.0</td>\n",
              "      <td>3.0</td>\n",
              "      <td>2018-01-25</td>\n",
              "      <td>ffffa5c46bc8de74f5a4554e74e239c8dee6b9baf38814...</td>\n",
              "      <td>1</td>\n",
              "    </tr>\n",
              "    <tr>\n",
              "      <th>446254</th>\n",
              "      <td>0.982910</td>\n",
              "      <td>0.444092</td>\n",
              "      <td>0.013153</td>\n",
              "      <td>0.815430</td>\n",
              "      <td>0.003456</td>\n",
              "      <td>0.100525</td>\n",
              "      <td>0.002111</td>\n",
              "      <td>0.012344</td>\n",
              "      <td>1.159180</td>\n",
              "      <td>0.006592</td>\n",
              "      <td>...</td>\n",
              "      <td>3.0</td>\n",
              "      <td>0.0</td>\n",
              "      <td>1.0</td>\n",
              "      <td>CL</td>\n",
              "      <td>O</td>\n",
              "      <td>1.0</td>\n",
              "      <td>5.0</td>\n",
              "      <td>2018-01-06</td>\n",
              "      <td>fffff1d38b785cef84adeace64f8f83db3a0c31e8d92ea...</td>\n",
              "      <td>0</td>\n",
              "    </tr>\n",
              "  </tbody>\n",
              "</table>\n",
              "<p>446255 rows × 191 columns</p>\n",
              "</div>"
            ],
            "text/plain": [
              "             P_2      D_39       B_1       B_2       R_1       S_3      D_41  \\\n",
              "0       0.909668  0.005714  0.002829  1.004883  0.008179  0.098877  0.001853   \n",
              "1       0.880859  0.211670  0.010582  1.001953  0.005955  0.130127  0.003628   \n",
              "2       0.899414  0.004372  0.003450  0.813965  0.007408  0.296875  0.008377   \n",
              "3       0.614746  0.002249  0.025116  0.968750  0.009651  0.302979  0.007492   \n",
              "4       0.881348  0.000722  0.009804  0.813477  0.009079  0.297852  0.005905   \n",
              "...          ...       ...       ...       ...       ...       ...       ...   \n",
              "446250  0.837891  0.008263  0.013161  1.006836  0.005756  0.133911  0.005955   \n",
              "446251  0.856445  0.036163  0.319092  0.044739  0.008858  0.325439  0.005020   \n",
              "446252  0.794434  0.384766  0.027100  1.000977  0.005398  0.075806  0.000377   \n",
              "446253  0.787598  0.030945  0.015511  0.209473  0.008003  0.609375  0.008972   \n",
              "446254  0.982910  0.444092  0.013153  0.815430  0.003456  0.100525  0.002111   \n",
              "\n",
              "             B_3      D_42      D_43  ...  D_117  D_120  D_126  D_63  D_64  \\\n",
              "0       0.003239  1.113281  0.024063  ...    4.0    0.0    1.0    CR     O   \n",
              "1       0.002802  0.482178  0.065247  ...   -1.0    1.0    1.0    CO     O   \n",
              "2       0.003839  0.569336  0.038391  ...   -1.0    0.0    1.0    CO     R   \n",
              "3       0.008408  0.415039  0.052521  ...    6.0    0.0    1.0    CO     O   \n",
              "4       0.000049  0.382324  0.043671  ...    4.0    0.0    1.0    CO     O   \n",
              "...          ...       ...       ...  ...    ...    ...    ...   ...   ...   \n",
              "446250  0.007393  0.348877  0.130737  ...    4.0    1.0    1.0    CO     U   \n",
              "446251  0.256104  1.014648  0.041016  ...    2.0    0.0    1.0    CO     R   \n",
              "446252  0.004890  0.449219  0.054230  ...   -1.0    0.0    1.0    CO     U   \n",
              "446253  0.083679  0.383057  0.049744  ...   -1.0    0.0    1.0    CO     R   \n",
              "446254  0.012344  1.159180  0.006592  ...    3.0    0.0    1.0    CL     O   \n",
              "\n",
              "        D_66  D_68        S_2  \\\n",
              "0        1.0   6.0 2018-01-11   \n",
              "1        1.0   6.0 2018-01-26   \n",
              "2        1.0   6.0 2018-01-12   \n",
              "3        1.0   3.0 2018-01-18   \n",
              "4        1.0   6.0 2018-01-30   \n",
              "...      ...   ...        ...   \n",
              "446250   1.0   6.0 2018-01-16   \n",
              "446251   1.0   6.0 2018-01-22   \n",
              "446252   1.0   5.0 2018-01-11   \n",
              "446253   1.0   3.0 2018-01-25   \n",
              "446254   1.0   5.0 2018-01-06   \n",
              "\n",
              "                                              customer_ID  target  \n",
              "0       0000099d6bd597052cdcda90ffabf56573fe9d7c79be5f...       0  \n",
              "1       00000fd6641609c6ece5454664794f0340ad84dddce9a2...       0  \n",
              "2       00001b22f846c82c51f6e3958ccd81970162bae8b007e8...       0  \n",
              "3       000041bdba6ecadd89a52d11886e8eaaec9325906c9723...       0  \n",
              "4       00007889e4fcd2614b6cbe7f8f3d2e5c728eca32d9eb8a...       0  \n",
              "...                                                   ...     ...  \n",
              "446250  ffff41c8a52833b56430603969b9ca48d208e7c192c6a4...       0  \n",
              "446251  ffff518bb2075e4816ee3fe9f3b152c57fc0e6f01bf7fd...       0  \n",
              "446252  ffff9984b999fccb2b6127635ed0736dda94e544e67e02...       0  \n",
              "446253  ffffa5c46bc8de74f5a4554e74e239c8dee6b9baf38814...       1  \n",
              "446254  fffff1d38b785cef84adeace64f8f83db3a0c31e8d92ea...       0  \n",
              "\n",
              "[446255 rows x 191 columns]"
            ]
          },
          "execution_count": 3,
          "metadata": {},
          "output_type": "execute_result"
        }
      ],
      "source": [
        "train1_imputed_df"
      ]
    },
    {
      "cell_type": "code",
      "execution_count": null,
      "metadata": {
        "colab": {
          "base_uri": "https://localhost:8080/"
        },
        "id": "rL9BkDlAqIjt",
        "outputId": "3b1bc30e-464f-435d-a0de-58a44a8c885c"
      },
      "outputs": [
        {
          "name": "stdout",
          "output_type": "stream",
          "text": [
            "Original Target Distribution:\n",
            "0    0.742824\n",
            "1    0.257176\n",
            "Name: target, dtype: float64\n",
            "\n",
            "Sampled Target Distribution:\n",
            "0    0.742824\n",
            "1    0.257176\n",
            "Name: target, dtype: float64\n"
          ]
        }
      ],
      "source": [
        "# Simple sampling with stratification\n",
        "sampled_data = train1_imputed_df.groupby('target', group_keys=False).apply(\n",
        "    lambda x: x.sample(frac=0.3, random_state=42)\n",
        ")\n",
        "\n",
        "# Verify the distribution\n",
        "print(\"Original Target Distribution:\")\n",
        "print(train1_imputed_df['target'].value_counts(normalize=True))\n",
        "print(\"\\nSampled Target Distribution:\")\n",
        "print(sampled_data['target'].value_counts(normalize=True))\n"
      ]
    },
    {
      "cell_type": "code",
      "execution_count": null,
      "metadata": {
        "id": "qUpSLIBmu61m"
      },
      "outputs": [],
      "source": [
        "selected_features = ['D_105',\n",
        " 'D_53',\n",
        "'D_42',\n",
        "'D_77',\n",
        "'D_47',\n",
        "'S_6',\n",
        "'D_110',\n",
        "'P_2',\n",
        "'R_1',\n",
        "'D_81',\n",
        "'D_87',\n",
        "'D_72',\n",
        "'D_49',\n",
        "'B_40',\n",
        "'D_129',\n",
        "'D_60',\n",
        "'S_27',\n",
        "'D_55',\n",
        "'D_130',\n",
        "'R_4',\n",
        "'D_136',\n",
        "'R_3',\n",
        "'D_104',\n",
        "'D_131',\n",
        "'B_30',\n",
        "'D_139',\n",
        "'B_10',\n",
        "'B_37',\n",
        "'D_106',\n",
        "'S_8',\n",
        "'D_63',\n",
        "'R_2',\n",
        "'D_56',\n",
        "'B_25',\n",
        "'D_45',\n",
        "'B_12',\n",
        "'D_112',\n",
        "'B_33',\n",
        "'S_11',\n",
        "'D_134',\n",
        "'B_9',\n",
        "'D_54',\n",
        "'D_68',\n",
        "'D_142',\n",
        "'D_62',\n",
        "'D_74',\n",
        "'D_76',\n",
        "'B_11',\n",
        "'D_107',\n",
        "'D_113',\n",
        "'D_51',\n",
        "'P_4',\n",
        "'D_145',\n",
        "'D_133',\n",
        "'R_9',\n",
        "'D_73',\n",
        "'S_26',\n",
        "'D_64',\n",
        "'B_8',\n",
        "'D_127',\n",
        "'D_103',\n",
        "'D_59',\n",
        "'B_22',\n",
        "'S_9',\n",
        "'S_25',\n",
        "'D_118',\n",
        "'B_28',\n",
        "'D_121',\n",
        "'B_23',\n",
        "'D_126',\n",
        "'R_26',\n",
        "'B_7',\n",
        "'D_111',\n",
        "'D_61',\n",
        "'P_3',\n",
        "'D_141',\n",
        "'S_3',\n",
        "'S_22',\n",
        "'D_91',\n",
        "'D_102',\n",
        "'B_13',\n",
        "'B_18',\n",
        "'D_71',\n",
        "'R_10',\n",
        "'S_13',\n",
        "'S_23',\n",
        "'D_117',\n",
        "'D_75',\n",
        "'S_24',\n",
        "'D_84',\n",
        "'B_1',\n",
        "'D_114',\n",
        "'R_7',\n",
        "'D_82',\n",
        "'D_88',\n",
        "'D_128',\n",
        "'D_79',\n",
        "'B_39',\n",
        "'D_44',\n",
        "'D_58',\n",
        "'D_70',\n",
        "'B_2',\n",
        "'B_20',\n",
        "'B_17',\n",
        "'D_39',\n",
        "'B_4',\n",
        "'B_14',\n",
        "'D_78',\n",
        "'D_43',\n",
        "'B_29',\n",
        "'B_38',\n",
        "'B_5',\n",
        "'S_5',\n",
        "'B_19',\n",
        "'D_132',\n",
        "'R_8',\n",
        "'B_3',\n",
        "'B_26',\n",
        "'D_52',\n",
        "'D_48',\n",
        "'D_65',\n",
        "'D_138',\n",
        "'R_27',\n",
        "'D_122',\n",
        "'B_6',\n",
        "'D_92',\n",
        "'R_5',\n",
        "'R_6',\n",
        "'D_143',\n",
        "'D_41',\n",
        "'S_15',\n",
        "'D_115',\n",
        "'B_16',\n",
        "'D_46',\n",
        "'S_7',\n",
        "'B_42',\n",
        "'B_31',\n",
        "'D_120',\n",
        "'D_50',\n",
        "'R_16',\n",
        "'D_119']\n",
        "\n"
      ]
    },
    {
      "cell_type": "code",
      "execution_count": null,
      "metadata": {
        "id": "VbClH0bZu64l"
      },
      "outputs": [],
      "source": []
    },
    {
      "cell_type": "markdown",
      "metadata": {
        "id": "0fmfXJLaBE5i"
      },
      "source": [
        "# MODEL BUILDING\n",
        "\n",
        "1. Random Forest\n",
        "\n",
        "2. XGBOOST\n",
        "\n",
        "4. Light boost\n",
        "\n",
        "3. SVM"
      ]
    },
    {
      "cell_type": "code",
      "execution_count": null,
      "metadata": {
        "id": "4znXh_qWn9va"
      },
      "outputs": [],
      "source": [
        "# Prepare the data\n",
        "X = sampled_data[selected_features]\n",
        "y = sampled_data['target']\n",
        "\n"
      ]
    },
    {
      "cell_type": "code",
      "execution_count": null,
      "metadata": {
        "colab": {
          "base_uri": "https://localhost:8080/"
        },
        "id": "I5T16vOPn9x2",
        "outputId": "00fbac45-5a0b-4cb0-d8e2-b604eb5fde41"
      },
      "outputs": [
        {
          "name": "stdout",
          "output_type": "stream",
          "text": [
            "Categorical columns to encode: ['D_63', 'D_64']\n"
          ]
        }
      ],
      "source": [
        "# Identify categorical variables in X\n",
        "categorical_cols = X.select_dtypes(include=['object', 'category']).columns.tolist()\n",
        "print(\"Categorical columns to encode:\", categorical_cols)\n",
        "\n"
      ]
    },
    {
      "cell_type": "code",
      "execution_count": null,
      "metadata": {
        "colab": {
          "base_uri": "https://localhost:8080/"
        },
        "id": "o0PzjjPvn90V",
        "outputId": "acf6bf72-ccc5-4db1-d29d-ccd3eede44fe"
      },
      "outputs": [
        {
          "name": "stderr",
          "output_type": "stream",
          "text": [
            "/tmp/job.2281455.hpc/ipykernel_123603/2151891621.py:10: SettingWithCopyWarning: \n",
            "A value is trying to be set on a copy of a slice from a DataFrame.\n",
            "Try using .loc[row_indexer,col_indexer] = value instead\n",
            "\n",
            "See the caveats in the documentation: https://pandas.pydata.org/pandas-docs/stable/user_guide/indexing.html#returning-a-view-versus-a-copy\n",
            "  X[col] = le.fit_transform(X[col].astype(str))\n",
            "/tmp/job.2281455.hpc/ipykernel_123603/2151891621.py:10: SettingWithCopyWarning: \n",
            "A value is trying to be set on a copy of a slice from a DataFrame.\n",
            "Try using .loc[row_indexer,col_indexer] = value instead\n",
            "\n",
            "See the caveats in the documentation: https://pandas.pydata.org/pandas-docs/stable/user_guide/indexing.html#returning-a-view-versus-a-copy\n",
            "  X[col] = le.fit_transform(X[col].astype(str))\n"
          ]
        }
      ],
      "source": [
        "from sklearn.preprocessing import LabelEncoder\n",
        "\n",
        "# Initialize a LabelEncoder for each categorical column\n",
        "label_encoders = {}\n",
        "\n",
        "# Encode categorical variables\n",
        "for col in categorical_cols:\n",
        "    le = LabelEncoder()\n",
        "    # Convert to string type to handle mixed data types\n",
        "    X[col] = le.fit_transform(X[col].astype(str))\n",
        "    # Store the encoder for potential inverse transformation or future use\n",
        "    label_encoders[col] = le\n"
      ]
    },
    {
      "cell_type": "code",
      "execution_count": null,
      "metadata": {
        "id": "bLXRSz1Rn93U"
      },
      "outputs": [],
      "source": [
        "from sklearn.model_selection import train_test_split\n",
        "\n",
        "# Split the data with stratification\n",
        "X_train, X_test, y_train, y_test = train_test_split(\n",
        "    X, y, test_size=0.3, random_state=42, stratify=y\n",
        ")\n",
        "\n"
      ]
    },
    {
      "cell_type": "markdown",
      "metadata": {
        "id": "-dTPAYjCBts9"
      },
      "source": [
        "# RANDOM FOREST"
      ]
    },
    {
      "cell_type": "code",
      "execution_count": null,
      "metadata": {
        "id": "-3fZriz-q6cL"
      },
      "outputs": [],
      "source": [
        "import pandas as pd\n",
        "import numpy as np\n",
        "from sklearn.model_selection import train_test_split\n",
        "from sklearn.ensemble import RandomForestClassifier\n",
        "from sklearn.metrics import classification_report, accuracy_score, roc_auc_score, confusion_matrix\n",
        "import matplotlib.pyplot as plt\n",
        "import seaborn as sns\n",
        "\n",
        "# Define hyperparameters\n",
        "rf = RandomForestClassifier(\n",
        "    n_estimators=200,  # Number of trees\n",
        "    max_depth=20,      # Maximum depth of the trees\n",
        "    max_features='sqrt',  # Features to consider at each split\n",
        "    random_state=42\n",
        ")\n",
        "\n",
        "X_train, X_test, y_train, y_test = train_test_split(X, y, test_size=0.2, random_state=42, stratify=y)\n",
        "\n",
        "rf.fit(X_train, y_train)\n",
        "\n",
        "y_pred = rf.predict(X_test)\n",
        "y_proba = rf.predict_proba(X_test)[:, 1]\n",
        "\n"
      ]
    },
    {
      "cell_type": "code",
      "execution_count": null,
      "metadata": {
        "id": "nIFo3C8oHZs8",
        "outputId": "025c4753-252d-4349-aa9b-e373dbb01715"
      },
      "outputs": [
        {
          "name": "stdout",
          "output_type": "stream",
          "text": [
            "\n",
            "Test Accuracy: 0.8778\n",
            "Test ROC-AUC Score: 0.9408\n",
            "\n",
            "Classification Report:\n",
            "               precision    recall  f1-score   support\n",
            "\n",
            "           0       0.92      0.92      0.92     19890\n",
            "           1       0.77      0.76      0.76      6886\n",
            "\n",
            "    accuracy                           0.88     26776\n",
            "   macro avg       0.84      0.84      0.84     26776\n",
            "weighted avg       0.88      0.88      0.88     26776\n",
            "\n"
          ]
        }
      ],
      "source": [
        "# Calculate evaluation metrics\n",
        "accuracy = accuracy_score(y_test, y_pred)\n",
        "roc_auc = roc_auc_score(y_test, y_proba)\n",
        "print(f\"\\nTest Accuracy: {accuracy:.4f}\")\n",
        "print(f\"Test ROC-AUC Score: {roc_auc:.4f}\")\n",
        "\n",
        "# Print classification report\n",
        "print(\"\\nClassification Report:\\n\", classification_report(y_test, y_pred))\n",
        "\n"
      ]
    },
    {
      "cell_type": "code",
      "execution_count": null,
      "metadata": {
        "id": "Jx6qfWNYQU9G",
        "outputId": "64dcc3dc-1f0d-4da9-e245-94b1fd3bd7c3"
      },
      "outputs": [
        {
          "data": {
            "image/png": "[encoded data removed]",
            "text/plain": [
              "<Figure size 576x432 with 1 Axes>"
            ]
          },
          "metadata": {
            "needs_background": "light"
          },
          "output_type": "display_data"
        }
      ],
      "source": [
        "from sklearn.metrics import roc_curve, roc_auc_score\n",
        "import matplotlib.pyplot as plt\n",
        "\n",
        "fpr, tpr, thresholds = roc_curve(y_test, y_proba)\n",
        "roc_auc = roc_auc_score(y_test, y_proba)\n",
        "\n",
        "# Plot ROC curve\n",
        "plt.figure(figsize=(8, 6))\n",
        "plt.plot(fpr, tpr, color='blue', label='ROC Curve (area = {:.2f})'.format(roc_auc))\n",
        "plt.plot([0, 1], [0, 1], color='red', linestyle='--')\n",
        "plt.xlim([0.0, 1.0])\n",
        "plt.ylim([0.0, 1.05])\n",
        "plt.xlabel('False Positive Rate')\n",
        "plt.ylabel('True Positive Rate')\n",
        "plt.title('Receiver Operating Characteristic (ROC) Curve')\n",
        "plt.legend(loc='lower right')\n",
        "plt.grid()\n",
        "plt.show()\n"
      ]
    },
    {
      "cell_type": "code",
      "execution_count": null,
      "metadata": {
        "id": "jRAinKSOHZvh",
        "outputId": "855b7728-cf82-47da-f436-1e7b0d87ea9e"
      },
      "outputs": [
        {
          "data": {
            "image/png": "[encoded data removed]",
            "text/plain": [
              "<Figure size 432x288 with 2 Axes>"
            ]
          },
          "metadata": {
            "needs_background": "light"
          },
          "output_type": "display_data"
        },
        {
          "data": {
            "image/png": "[encoded data removed]",
            "text/plain": [
              "<Figure size 864x432 with 1 Axes>"
            ]
          },
          "metadata": {
            "needs_background": "light"
          },
          "output_type": "display_data"
        }
      ],
      "source": [
        "\n",
        "import matplotlib.pyplot as plt\n",
        "%matplotlib inline\n",
        "\n",
        "# Confusion Matrix\n",
        "conf_matrix = confusion_matrix(y_test, y_pred)\n",
        "plt.figure(figsize=(6, 4))\n",
        "sns.heatmap(conf_matrix, annot=True, fmt='d', cmap='Blues', xticklabels=['No', 'Yes'], yticklabels=['No', 'Yes'])\n",
        "plt.ylabel('Actual')\n",
        "plt.xlabel('Predicted')\n",
        "plt.title('Confusion Matrix')\n",
        "plt.show()\n",
        "\n",
        "# Step 10: Feature Importance\n",
        "importances = pd.Series(best_rf.feature_importances_, index=X_train.columns)\n",
        "importances = importances.sort_values(ascending=False)\n",
        "\n",
        "# Plot top 20 feature importances\n",
        "plt.figure(figsize=(12, 6))\n",
        "importances.head(20).plot.bar()\n",
        "plt.title('Top 20 Feature Importances from Random Forest')\n",
        "plt.ylabel('Importance Score')\n",
        "plt.show()"
      ]
    },
    {
      "cell_type": "code",
      "execution_count": null,
      "metadata": {
        "id": "YvgTtohmHZx3"
      },
      "outputs": [],
      "source": []
    },
    {
      "cell_type": "markdown",
      "metadata": {
        "id": "50kT1bupLIUk"
      },
      "source": [
        "# SVM"
      ]
    },
    {
      "cell_type": "markdown",
      "metadata": {
        "id": "5JkX4hVNq6cM"
      },
      "source": [
        "I have done hyper parameter tuninng in other note book, and i am using the parameters over here"
      ]
    },
    {
      "cell_type": "code",
      "execution_count": null,
      "metadata": {
        "id": "8RwbUgt0q6cM",
        "outputId": "d3c5a36e-23bc-4b59-f524-ab1a58c3ec53"
      },
      "outputs": [
        {
          "name": "stdout",
          "output_type": "stream",
          "text": [
            "ROC-AUC Score: 0.9410120038823917\n",
            "Classification Report:\n",
            "              precision    recall  f1-score   support\n",
            "\n",
            "           0       0.91      0.92      0.92     29835\n",
            "           1       0.77      0.75      0.76     10329\n",
            "\n",
            "    accuracy                           0.88     40164\n",
            "   macro avg       0.84      0.84      0.84     40164\n",
            "weighted avg       0.88      0.88      0.88     40164\n",
            "\n"
          ]
        },
        {
          "name": "stderr",
          "output_type": "stream",
          "text": [
            "/tmp/job.2281455.hpc/ipykernel_119429/3044002438.py:32: UserWarning: Matplotlib is currently using agg, which is a non-GUI backend, so cannot show the figure.\n",
            "  plt.show()\n"
          ]
        }
      ],
      "source": [
        "import pandas as pd\n",
        "import numpy as np\n",
        "from sklearn.model_selection import train_test_split\n",
        "from sklearn.svm import SVC\n",
        "from sklearn.preprocessing import StandardScaler\n",
        "from sklearn.metrics import classification_report, accuracy_score, roc_auc_score, confusion_matrix\n",
        "import matplotlib.pyplot as plt\n",
        "import seaborn as sns\n",
        "\n",
        "\n",
        "svm = SVC(C=1, kernel='rbf', gamma='scale', probability=True, random_state=42)\n",
        "svm.fit(X_train, y_train)\n",
        "\n",
        "# Evaluate the model\n",
        "y_pred = svm.predict(X_test)\n",
        "y_proba = svm.predict_proba(X_test)[:, 1]\n",
        "\n",
        "# Calculate ROC-AUC score\n",
        "roc_auc = roc_auc_score(y_test, y_proba)\n",
        "print(\"ROC-AUC Score:\", roc_auc)\n",
        "\n"
      ]
    },
    {
      "cell_type": "code",
      "execution_count": null,
      "metadata": {
        "id": "KXtMBWQbq6cM",
        "outputId": "1e37a3f6-66ce-42d6-bdd2-cafcf85838ec"
      },
      "outputs": [
        {
          "data": {
            "image/png": "[encoded data removed]",
            "text/plain": [
              "<Figure size 576x432 with 1 Axes>"
            ]
          },
          "metadata": {
            "needs_background": "light"
          },
          "output_type": "display_data"
        }
      ],
      "source": [
        "from sklearn.metrics import roc_curve, roc_auc_score\n",
        "import matplotlib.pyplot as plt\n",
        "\n",
        "fpr, tpr, thresholds = roc_curve(y_test, y_proba)\n",
        "roc_auc = roc_auc_score(y_test, y_proba)\n",
        "\n",
        "# Plot ROC curve\n",
        "plt.figure(figsize=(8, 6))\n",
        "plt.plot(fpr, tpr, color='blue', label='ROC Curve (area = {:.2f})'.format(roc_auc))\n",
        "plt.plot([0, 1], [0, 1], color='red', linestyle='--')\n",
        "plt.xlim([0.0, 1.0])\n",
        "plt.ylim([0.0, 1.05])\n",
        "plt.xlabel('False Positive Rate')\n",
        "plt.ylabel('True Positive Rate')\n",
        "plt.title('Receiver Operating Characteristic (ROC) Curve')\n",
        "plt.legend(loc='lower right')\n",
        "plt.grid()\n",
        "plt.show()"
      ]
    },
    {
      "cell_type": "code",
      "execution_count": null,
      "metadata": {
        "id": "9_ZPDlGGq6cM",
        "outputId": "ee1c4441-be45-4cfc-c838-7ed511b66b78"
      },
      "outputs": [
        {
          "name": "stdout",
          "output_type": "stream",
          "text": [
            "Classification Report:\n",
            "              precision    recall  f1-score   support\n",
            "\n",
            "           0       0.91      0.92      0.92     29835\n",
            "           1       0.77      0.75      0.76     10329\n",
            "\n",
            "    accuracy                           0.88     40164\n",
            "   macro avg       0.84      0.84      0.84     40164\n",
            "weighted avg       0.88      0.88      0.88     40164\n",
            "\n"
          ]
        },
        {
          "data": {
            "image/png": "[encoded data removed]",
            "text/plain": [
              "<Figure size 432x288 with 2 Axes>"
            ]
          },
          "metadata": {
            "needs_background": "light"
          },
          "output_type": "display_data"
        }
      ],
      "source": [
        "import matplotlib.pyplot as plt\n",
        "%matplotlib inline\n",
        "\n",
        "# Print classification report\n",
        "print(\"Classification Report:\")\n",
        "print(classification_report(y_test, y_pred))\n",
        "\n",
        "# Confusion matrix\n",
        "cm = confusion_matrix(y_test, y_pred)\n",
        "sns.heatmap(cm, annot=True, fmt='d', cmap='Blues')\n",
        "plt.title('Confusion Matrix')\n",
        "plt.ylabel('Actual Label')\n",
        "plt.xlabel('Predicted Label')\n",
        "plt.show()\n"
      ]
    },
    {
      "cell_type": "markdown",
      "metadata": {
        "id": "zpnWQmw5q6cM"
      },
      "source": [
        "# LGBOOST"
      ]
    },
    {
      "cell_type": "code",
      "execution_count": null,
      "metadata": {
        "id": "FCVKv8idq6cM",
        "outputId": "d1539ed6-502f-4909-f2f2-b57469e4be28"
      },
      "outputs": [
        {
          "name": "stdout",
          "output_type": "stream",
          "text": [
            "[LightGBM] [Info] Number of positive: 24101, number of negative: 69612\n",
            "[LightGBM] [Info] Auto-choosing col-wise multi-threading, the overhead of testing was 0.030446 seconds.\n",
            "You can set `force_col_wise=true` to remove the overhead.\n",
            "[LightGBM] [Info] Total Bins 32971\n",
            "[LightGBM] [Info] Number of data points in the train set: 93713, number of used features: 140\n",
            "[LightGBM] [Info] [binary:BoostFromScore]: pavg=0.257179 -> initscore=-1.060684\n",
            "[LightGBM] [Info] Start training from score -1.060684\n",
            "[LightGBM] [Warning] No further splits with positive gain, best gain: -inf\n",
            "[LightGBM] [Warning] No further splits with positive gain, best gain: -inf\n",
            "[LightGBM] [Warning] No further splits with positive gain, best gain: -inf\n"
          ]
        }
      ],
      "source": [
        "import pandas as pd\n",
        "import numpy as np\n",
        "from sklearn.model_selection import train_test_split\n",
        "from sklearn.metrics import classification_report, roc_auc_score, confusion_matrix, roc_curve\n",
        "import matplotlib.pyplot as plt\n",
        "import seaborn as sns\n",
        "import lightgbm as lgb\n",
        "\n",
        "lgb_model = lgb.LGBMClassifier(\n",
        "    random_state=42,\n",
        "    scale_pos_weight=3,  # Handles class imbalance\n",
        "    n_estimators=100,    # Number of boosting iterations\n",
        "    learning_rate=0.1,   # Learning rate\n",
        "    max_depth=6          # Limits the depth of each tree to avoid overfitting\n",
        ")\n",
        "\n",
        "lgb_model.fit(X_train, y_train)\n",
        "\n",
        "# Evaluate the model\n",
        "y_pred = lgb_model.predict(X_test)\n",
        "y_proba = lgb_model.predict_proba(X_test)[:, 1]\n",
        "\n"
      ]
    },
    {
      "cell_type": "code",
      "execution_count": null,
      "metadata": {
        "id": "9Uam7pZPq6cN",
        "outputId": "29794ae0-16e3-400f-979a-98adbcf1e7ba"
      },
      "outputs": [
        {
          "name": "stdout",
          "output_type": "stream",
          "text": [
            "ROC-AUC Score: 0.9444278218944636\n",
            "\n",
            "Classification Report:\n",
            "              precision    recall  f1-score   support\n",
            "\n",
            "           0       0.96      0.85      0.90     29835\n",
            "           1       0.67      0.91      0.77     10329\n",
            "\n",
            "    accuracy                           0.86     40164\n",
            "   macro avg       0.82      0.88      0.84     40164\n",
            "weighted avg       0.89      0.86      0.87     40164\n",
            "\n"
          ]
        }
      ],
      "source": [
        "# Calculate ROC-AUC score\n",
        "roc_auc = roc_auc_score(y_test, y_proba)\n",
        "print(\"ROC-AUC Score:\", roc_auc)\n",
        "\n",
        "# Classification report\n",
        "print(\"\\nClassification Report:\")\n",
        "print(classification_report(y_test, y_pred))\n",
        "\n"
      ]
    },
    {
      "cell_type": "code",
      "execution_count": null,
      "metadata": {
        "id": "fQ_E0-Xtq6cN",
        "outputId": "d932ef4f-0a37-4c1b-a54c-6172035f8ef1"
      },
      "outputs": [
        {
          "data": {
            "image/png": "[encoded data removed]",
            "text/plain": [
              "<Figure size 432x288 with 1 Axes>"
            ]
          },
          "metadata": {
            "needs_background": "light"
          },
          "output_type": "display_data"
        }
      ],
      "source": [
        "from sklearn.metrics import roc_curve\n",
        "import matplotlib.pyplot as plt\n",
        "\n",
        "fpr, tpr, thresholds = roc_curve(y_test, y_proba)\n",
        "\n",
        "# Plot ROC curve\n",
        "plt.figure(figsize=(6, 4))\n",
        "plt.plot(fpr, tpr, label=f'ROC AUC = {roc_auc:.4f}', lw=2)\n",
        "plt.plot([0, 1], [0, 1], 'k--', lw=1)\n",
        "plt.xlabel('False Positive Rate')\n",
        "plt.ylabel('True Positive Rate')\n",
        "plt.title('Receiver Operating Characteristic (ROC) Curve')\n",
        "plt.legend(loc='lower right')\n",
        "plt.grid(alpha=0.2)\n",
        "plt.tight_layout()\n",
        "plt.show()\n"
      ]
    },
    {
      "cell_type": "code",
      "execution_count": null,
      "metadata": {
        "id": "BHaBvjC3q6cN",
        "outputId": "6691437f-3f8b-4e13-9158-76a46c384185"
      },
      "outputs": [
        {
          "name": "stdout",
          "output_type": "stream",
          "text": [
            "Classification Report:\n",
            "              precision    recall  f1-score   support\n",
            "\n",
            "           0       0.96      0.85      0.90     29835\n",
            "           1       0.67      0.91      0.77     10329\n",
            "\n",
            "    accuracy                           0.86     40164\n",
            "   macro avg       0.82      0.88      0.84     40164\n",
            "weighted avg       0.89      0.86      0.87     40164\n",
            "\n"
          ]
        },
        {
          "data": {
            "image/png": "[encoded data removed]",
            "text/plain": [
              "<Figure size 432x288 with 2 Axes>"
            ]
          },
          "metadata": {
            "needs_background": "light"
          },
          "output_type": "display_data"
        }
      ],
      "source": [
        "import matplotlib.pyplot as plt\n",
        "%matplotlib inline\n",
        "\n",
        "# Print classification report\n",
        "print(\"Classification Report:\")\n",
        "print(classification_report(y_test, y_pred))\n",
        "\n",
        "# Confusion matrix\n",
        "cm = confusion_matrix(y_test, y_pred)\n",
        "sns.heatmap(cm, annot=True, fmt='d', cmap='Blues')\n",
        "plt.title('Confusion Matrix')\n",
        "plt.ylabel('Actual Label')\n",
        "plt.xlabel('Predicted Label')\n",
        "plt.show()\n"
      ]
    },
    {
      "cell_type": "markdown",
      "metadata": {
        "id": "R7oYmaSQq6cN"
      },
      "source": [
        "# XGBOOST"
      ]
    },
    {
      "cell_type": "code",
      "execution_count": null,
      "metadata": {
        "id": "YOVdp9Nlq6cN"
      },
      "outputs": [],
      "source": [
        "import pandas as pd\n",
        "import numpy as np\n",
        "from sklearn.model_selection import train_test_split\n",
        "from sklearn.metrics import classification_report, roc_auc_score, confusion_matrix, roc_curve\n",
        "import matplotlib.pyplot as plt\n",
        "import seaborn as sns\n",
        "import xgboost as xgb\n",
        "\n",
        "\n",
        "xgb_model = xgb.XGBClassifier(\n",
        "    objective='binary:logistic',  # Binary classification\n",
        "    eval_metric='logloss',        # Suitable for binary classification\n",
        "    learning_rate=0.1,            # Step size shrinkage\n",
        "    n_estimators=200,             # Number of boosting rounds\n",
        "    max_depth=6,                  # Maximum depth of a tree\n",
        "    subsample=0.8,                # Randomly sample 80% of the data for growing trees\n",
        "    colsample_bytree=0.8,         # Use 80% of features for growing trees\n",
        "    scale_pos_weight=3,           # Handle class imbalance\n",
        "    random_state=42               # Ensure reproducibility\n",
        ")\n",
        "\n",
        "\n",
        "xgb_model.fit(X_train, y_train)\n",
        "\n",
        "y_pred = xgb_model.predict(X_test)\n",
        "y_proba = xgb_model.predict_proba(X_test)[:, 1]\n",
        "\n",
        "\n"
      ]
    },
    {
      "cell_type": "code",
      "execution_count": null,
      "metadata": {
        "id": "w0-sS3wlq6cN",
        "outputId": "83b28406-3efa-4586-915a-859a4ac2d2ae"
      },
      "outputs": [
        {
          "name": "stdout",
          "output_type": "stream",
          "text": [
            "ROC-AUC Score: 0.9456035314473578\n",
            "\n",
            "Classification Report:\n",
            "              precision    recall  f1-score   support\n",
            "\n",
            "           0       0.96      0.86      0.91     19890\n",
            "           1       0.69      0.89      0.78      6886\n",
            "\n",
            "    accuracy                           0.87     26776\n",
            "   macro avg       0.83      0.88      0.84     26776\n",
            "weighted avg       0.89      0.87      0.87     26776\n",
            "\n"
          ]
        }
      ],
      "source": [
        "# Calculate ROC-AUC score\n",
        "roc_auc = roc_auc_score(y_test, y_proba)\n",
        "print(\"ROC-AUC Score:\", roc_auc)\n",
        "\n",
        "# Classification report\n",
        "print(\"\\nClassification Report:\")\n",
        "print(classification_report(y_test, y_pred))\n",
        "\n"
      ]
    },
    {
      "cell_type": "code",
      "execution_count": null,
      "metadata": {
        "id": "da-3QAmlq6cN",
        "outputId": "4bd8ee50-3ed2-461f-bc59-6f2297320909"
      },
      "outputs": [
        {
          "data": {
            "image/png": "[encoded data removed]",
            "text/plain": [
              "<Figure size 432x288 with 1 Axes>"
            ]
          },
          "metadata": {
            "needs_background": "light"
          },
          "output_type": "display_data"
        }
      ],
      "source": [
        "# Confusion matrix\n",
        "cm = confusion_matrix(y_test, y_pred)\n",
        "sns.heatmap(cm, annot=True, fmt='d', cmap='Blues', cbar=False)\n",
        "plt.title('Confusion Matrix')\n",
        "plt.ylabel('Actual Class')\n",
        "plt.xlabel('Predicted Class')\n",
        "plt.show()\n",
        "\n"
      ]
    },
    {
      "cell_type": "code",
      "execution_count": null,
      "metadata": {
        "id": "BErv3Nizq6cN",
        "outputId": "f0cd0f67-a815-4445-d50f-161c3cab7d99"
      },
      "outputs": [
        {
          "data": {
            "image/png": "[encoded data removed]",
            "text/plain": [
              "<Figure size 432x288 with 1 Axes>"
            ]
          },
          "metadata": {
            "needs_background": "light"
          },
          "output_type": "display_data"
        }
      ],
      "source": [
        "# Plot ROC Curve\n",
        "fpr, tpr, thresholds = roc_curve(y_test, y_proba)\n",
        "plt.figure(figsize=(6, 4))\n",
        "plt.plot(fpr, tpr, label=f'ROC AUC = {roc_auc:.4f}', lw=2)\n",
        "plt.plot([0, 1], [0, 1], 'k--', lw=1)\n",
        "plt.xlabel('False Positive Rate')\n",
        "plt.ylabel('True Positive Rate')\n",
        "plt.title('Receiver Operating Characteristic (ROC) Curve')\n",
        "plt.legend(loc='lower right')\n",
        "plt.grid(alpha=0.2)\n",
        "plt.tight_layout()\n",
        "plt.show()"
      ]
    },
    {
      "cell_type": "markdown",
      "metadata": {
        "id": "62Es9jcxq6cN"
      },
      "source": [
        "# LOGISTIC REGRESSION"
      ]
    },
    {
      "cell_type": "code",
      "execution_count": null,
      "metadata": {
        "id": "kRkBy7i6q6cN"
      },
      "outputs": [],
      "source": [
        "import pandas as pd\n",
        "import numpy as np\n",
        "from sklearn.model_selection import train_test_split\n",
        "from sklearn.linear_model import LogisticRegression\n",
        "from sklearn.metrics import classification_report, roc_auc_score, confusion_matrix, roc_curve\n",
        "import matplotlib.pyplot as plt\n",
        "import seaborn as sns\n",
        "\n",
        "log_reg = LogisticRegression(\n",
        "    random_state=42,\n",
        "    class_weight='balanced',  # Handle class imbalance\n",
        "    max_iter=1000             # Ensure convergence for larger datasets\n",
        ")\n",
        "log_reg.fit(X_train, y_train)\n",
        "\n",
        "y_pred = log_reg.predict(X_test)\n",
        "y_proba = log_reg.predict_proba(X_test)[:, 1]\n",
        "\n"
      ]
    },
    {
      "cell_type": "code",
      "execution_count": null,
      "metadata": {
        "id": "vHSEHbUYHaLp",
        "outputId": "b6fc08a1-d850-4fcd-f2a2-8871075b9571"
      },
      "outputs": [
        {
          "name": "stdout",
          "output_type": "stream",
          "text": [
            "ROC-AUC Score: 0.9416270430991973\n",
            "\n",
            "Classification Report:\n",
            "              precision    recall  f1-score   support\n",
            "\n",
            "           0       0.96      0.85      0.90     29835\n",
            "           1       0.68      0.89      0.77     10329\n",
            "\n",
            "    accuracy                           0.86     40164\n",
            "   macro avg       0.82      0.87      0.84     40164\n",
            "weighted avg       0.89      0.86      0.87     40164\n",
            "\n"
          ]
        }
      ],
      "source": [
        "# Calculate ROC-AUC score\n",
        "roc_auc = roc_auc_score(y_test, y_proba)\n",
        "print(\"ROC-AUC Score:\", roc_auc)\n",
        "\n",
        "# Classification report\n",
        "print(\"\\nClassification Report:\")\n",
        "print(classification_report(y_test, y_pred))\n",
        "\n"
      ]
    },
    {
      "cell_type": "code",
      "execution_count": null,
      "metadata": {
        "id": "vzn24D2iHaOd",
        "outputId": "2bffa739-f65a-48a2-f998-d55fd9d4bf1c"
      },
      "outputs": [
        {
          "data": {
            "image/png": "[encoded data removed]",
            "text/plain": [
              "<Figure size 432x288 with 1 Axes>"
            ]
          },
          "metadata": {
            "needs_background": "light"
          },
          "output_type": "display_data"
        }
      ],
      "source": [
        "import matplotlib.pyplot as plt\n",
        "%matplotlib inline\n",
        "\n",
        "# Confusion matrix\n",
        "cm = confusion_matrix(y_test, y_pred)\n",
        "sns.heatmap(cm, annot=True, fmt='d', cmap='Blues', cbar=False)\n",
        "plt.title('Confusion Matrix')\n",
        "plt.ylabel('Actual Class')\n",
        "plt.xlabel('Predicted Class')\n",
        "plt.show()"
      ]
    },
    {
      "cell_type": "code",
      "execution_count": null,
      "metadata": {
        "id": "alNf6zW1HaRC",
        "outputId": "0055b679-7684-4e28-9c87-d4d8e0787bb0"
      },
      "outputs": [
        {
          "data": {
            "image/png": "[encoded data removed]",
            "text/plain": [
              "<Figure size 432x288 with 1 Axes>"
            ]
          },
          "metadata": {
            "needs_background": "light"
          },
          "output_type": "display_data"
        }
      ],
      "source": [
        "# Plot ROC Curve\n",
        "fpr, tpr, thresholds = roc_curve(y_test, y_proba)\n",
        "plt.figure(figsize=(6, 4))\n",
        "plt.plot(fpr, tpr, label=f'ROC AUC = {roc_auc:.4f}', lw=2)\n",
        "plt.plot([0, 1], [0, 1], 'k--', lw=1)\n",
        "plt.xlabel('False Positive Rate')\n",
        "plt.ylabel('True Positive Rate')\n",
        "plt.title('Receiver Operating Characteristic (ROC) Curve')\n",
        "plt.legend(loc='lower right')\n",
        "plt.grid(alpha=0.2)\n",
        "plt.tight_layout()\n",
        "plt.show()"
      ]
    },
    {
      "cell_type": "markdown",
      "metadata": {
        "id": "QHguXbRtq6cO"
      },
      "source": [
        "# MODEL COMPARISION"
      ]
    },
    {
      "cell_type": "markdown",
      "metadata": {
        "id": "87il4W5Uq6cO"
      },
      "source": [
        "# 1. GINI COEFFICIENT"
      ]
    },
    {
      "cell_type": "code",
      "execution_count": null,
      "metadata": {
        "id": "2MtnuHL5HaT2",
        "outputId": "4395e3b1-25c0-4c13-e790-551b67b76b39"
      },
      "outputs": [
        {
          "name": "stdout",
          "output_type": "stream",
          "text": [
            "Gini Coefficient Logistic: 0.8832540861983946\n",
            "Gini Coefficient LightBoostc: 0.8888556437889272\n",
            "Gini Coefficient SVM: 0.8820240077647834\n",
            "Gini Coefficient RF: 0.8816024007764784\n",
            "Gini Coefficient XGBoost: 0.8816024007764784\n"
          ]
        }
      ],
      "source": [
        "gini_coefficient_log = 2 * 0.9416270430991973 - 1\n",
        "print(\"Gini Coefficient Logistic:\", gini_coefficient_log)\n",
        "gini_coefficient_lgb = 2 * 0.9444278218944636 - 1\n",
        "print(\"Gini Coefficient LightBoostc:\", gini_coefficient_lgb)\n",
        "gini_coefficient_svm = 2 * 0.9410120038823917 - 1\n",
        "print(\"Gini Coefficient SVM:\", gini_coefficient_svm)\n",
        "gini_coefficient_rf = 2 * 0.94080120038823917 - 1\n",
        "print(\"Gini Coefficient RF:\", gini_coefficient_rf)\n",
        "gini_coefficient_xgboost = 2 * 0.94080120038823917 - 1\n",
        "print(\"Gini Coefficient XGBoost:\", gini_coefficient_xgboost)"
      ]
    },
    {
      "cell_type": "code",
      "execution_count": 1,
      "metadata": {
        "id": "zig5Vf63HagR",
        "colab": {
          "base_uri": "https://localhost:8080/",
          "height": 201
        },
        "outputId": "bfc4591c-54bc-4f1c-8ceb-391a64aa54e9"
      },
      "outputs": [
        {
          "output_type": "execute_result",
          "data": {
            "text/plain": [
              "                 Model  Gini Coefficient\n",
              "0  Logistic Regression              0.88\n",
              "1             LightGBM              0.89\n",
              "2                  SVM              0.88\n",
              "3        Random Forest              0.88\n",
              "4              XGBoost              0.88"
            ],
            "text/html": [
              "\n",
              "  <div id=\"df-dd1a2901-f1b1-41c8-a707-acb0206be55d\" class=\"colab-df-container\">\n",
              "    <div>\n",
              "<style scoped>\n",
              "    .dataframe tbody tr th:only-of-type {\n",
              "        vertical-align: middle;\n",
              "    }\n",
              "\n",
              "    .dataframe tbody tr th {\n",
              "        vertical-align: top;\n",
              "    }\n",
              "\n",
              "    .dataframe thead th {\n",
              "        text-align: right;\n",
              "    }\n",
              "</style>\n",
              "<table border=\"1\" class=\"dataframe\">\n",
              "  <thead>\n",
              "    <tr style=\"text-align: right;\">\n",
              "      <th></th>\n",
              "      <th>Model</th>\n",
              "      <th>Gini Coefficient</th>\n",
              "    </tr>\n",
              "  </thead>\n",
              "  <tbody>\n",
              "    <tr>\n",
              "      <th>0</th>\n",
              "      <td>Logistic Regression</td>\n",
              "      <td>0.88</td>\n",
              "    </tr>\n",
              "    <tr>\n",
              "      <th>1</th>\n",
              "      <td>LightGBM</td>\n",
              "      <td>0.89</td>\n",
              "    </tr>\n",
              "    <tr>\n",
              "      <th>2</th>\n",
              "      <td>SVM</td>\n",
              "      <td>0.88</td>\n",
              "    </tr>\n",
              "    <tr>\n",
              "      <th>3</th>\n",
              "      <td>Random Forest</td>\n",
              "      <td>0.88</td>\n",
              "    </tr>\n",
              "    <tr>\n",
              "      <th>4</th>\n",
              "      <td>XGBoost</td>\n",
              "      <td>0.88</td>\n",
              "    </tr>\n",
              "  </tbody>\n",
              "</table>\n",
              "</div>\n",
              "    <div class=\"colab-df-buttons\">\n",
              "\n",
              "  <div class=\"colab-df-container\">\n",
              "    <button class=\"colab-df-convert\" onclick=\"convertToInteractive('df-dd1a2901-f1b1-41c8-a707-acb0206be55d')\"\n",
              "            title=\"Convert this dataframe to an interactive table.\"\n",
              "            style=\"display:none;\">\n",
              "\n",
              "  <svg xmlns=\"http://www.w3.org/2000/svg\" height=\"24px\" viewBox=\"0 -960 960 960\">\n",
              "    <path d=\"M120-120v-720h720v720H120Zm60-500h600v-160H180v160Zm220 220h160v-160H400v160Zm0 220h160v-160H400v160ZM180-400h160v-160H180v160Zm440 0h160v-160H620v160ZM180-180h160v-160H180v160Zm440 0h160v-160H620v160Z\"/>\n",
              "  </svg>\n",
              "    </button>\n",
              "\n",
              "  <style>\n",
              "    .colab-df-container {\n",
              "      display:flex;\n",
              "      gap: 12px;\n",
              "    }\n",
              "\n",
              "    .colab-df-convert {\n",
              "      background-color: #E8F0FE;\n",
              "      border: none;\n",
              "      border-radius: 50%;\n",
              "      cursor: pointer;\n",
              "      display: none;\n",
              "      fill: #1967D2;\n",
              "      height: 32px;\n",
              "      padding: 0 0 0 0;\n",
              "      width: 32px;\n",
              "    }\n",
              "\n",
              "    .colab-df-convert:hover {\n",
              "      background-color: #E2EBFA;\n",
              "      box-shadow: 0px 1px 2px rgba(60, 64, 67, 0.3), 0px 1px 3px 1px rgba(60, 64, 67, 0.15);\n",
              "      fill: #174EA6;\n",
              "    }\n",
              "\n",
              "    .colab-df-buttons div {\n",
              "      margin-bottom: 4px;\n",
              "    }\n",
              "\n",
              "    [theme=dark] .colab-df-convert {\n",
              "      background-color: #3B4455;\n",
              "      fill: #D2E3FC;\n",
              "    }\n",
              "\n",
              "    [theme=dark] .colab-df-convert:hover {\n",
              "      background-color: #434B5C;\n",
              "      box-shadow: 0px 1px 3px 1px rgba(0, 0, 0, 0.15);\n",
              "      filter: drop-shadow(0px 1px 2px rgba(0, 0, 0, 0.3));\n",
              "      fill: #FFFFFF;\n",
              "    }\n",
              "  </style>\n",
              "\n",
              "    <script>\n",
              "      const buttonEl =\n",
              "        document.querySelector('#df-dd1a2901-f1b1-41c8-a707-acb0206be55d button.colab-df-convert');\n",
              "      buttonEl.style.display =\n",
              "        google.colab.kernel.accessAllowed ? 'block' : 'none';\n",
              "\n",
              "      async function convertToInteractive(key) {\n",
              "        const element = document.querySelector('#df-dd1a2901-f1b1-41c8-a707-acb0206be55d');\n",
              "        const dataTable =\n",
              "          await google.colab.kernel.invokeFunction('convertToInteractive',\n",
              "                                                    [key], {});\n",
              "        if (!dataTable) return;\n",
              "\n",
              "        const docLinkHtml = 'Like what you see? Visit the ' +\n",
              "          '<a target=\"_blank\" href=https://colab.research.google.com/notebooks/data_table.ipynb>data table notebook</a>'\n",
              "          + ' to learn more about interactive tables.';\n",
              "        element.innerHTML = '';\n",
              "        dataTable['output_type'] = 'display_data';\n",
              "        await google.colab.output.renderOutput(dataTable, element);\n",
              "        const docLink = document.createElement('div');\n",
              "        docLink.innerHTML = docLinkHtml;\n",
              "        element.appendChild(docLink);\n",
              "      }\n",
              "    </script>\n",
              "  </div>\n",
              "\n",
              "\n",
              "<div id=\"df-7011b204-a907-4b8a-94c9-32d9ea9aae5b\">\n",
              "  <button class=\"colab-df-quickchart\" onclick=\"quickchart('df-7011b204-a907-4b8a-94c9-32d9ea9aae5b')\"\n",
              "            title=\"Suggest charts\"\n",
              "            style=\"display:none;\">\n",
              "\n",
              "<svg xmlns=\"http://www.w3.org/2000/svg\" height=\"24px\"viewBox=\"0 0 24 24\"\n",
              "     width=\"24px\">\n",
              "    <g>\n",
              "        <path d=\"M19 3H5c-1.1 0-2 .9-2 2v14c0 1.1.9 2 2 2h14c1.1 0 2-.9 2-2V5c0-1.1-.9-2-2-2zM9 17H7v-7h2v7zm4 0h-2V7h2v10zm4 0h-2v-4h2v4z\"/>\n",
              "    </g>\n",
              "</svg>\n",
              "  </button>\n",
              "\n",
              "<style>\n",
              "  .colab-df-quickchart {\n",
              "      --bg-color: #E8F0FE;\n",
              "      --fill-color: #1967D2;\n",
              "      --hover-bg-color: #E2EBFA;\n",
              "      --hover-fill-color: #174EA6;\n",
              "      --disabled-fill-color: #AAA;\n",
              "      --disabled-bg-color: #DDD;\n",
              "  }\n",
              "\n",
              "  [theme=dark] .colab-df-quickchart {\n",
              "      --bg-color: #3B4455;\n",
              "      --fill-color: #D2E3FC;\n",
              "      --hover-bg-color: #434B5C;\n",
              "      --hover-fill-color: #FFFFFF;\n",
              "      --disabled-bg-color: #3B4455;\n",
              "      --disabled-fill-color: #666;\n",
              "  }\n",
              "\n",
              "  .colab-df-quickchart {\n",
              "    background-color: var(--bg-color);\n",
              "    border: none;\n",
              "    border-radius: 50%;\n",
              "    cursor: pointer;\n",
              "    display: none;\n",
              "    fill: var(--fill-color);\n",
              "    height: 32px;\n",
              "    padding: 0;\n",
              "    width: 32px;\n",
              "  }\n",
              "\n",
              "  .colab-df-quickchart:hover {\n",
              "    background-color: var(--hover-bg-color);\n",
              "    box-shadow: 0 1px 2px rgba(60, 64, 67, 0.3), 0 1px 3px 1px rgba(60, 64, 67, 0.15);\n",
              "    fill: var(--button-hover-fill-color);\n",
              "  }\n",
              "\n",
              "  .colab-df-quickchart-complete:disabled,\n",
              "  .colab-df-quickchart-complete:disabled:hover {\n",
              "    background-color: var(--disabled-bg-color);\n",
              "    fill: var(--disabled-fill-color);\n",
              "    box-shadow: none;\n",
              "  }\n",
              "\n",
              "  .colab-df-spinner {\n",
              "    border: 2px solid var(--fill-color);\n",
              "    border-color: transparent;\n",
              "    border-bottom-color: var(--fill-color);\n",
              "    animation:\n",
              "      spin 1s steps(1) infinite;\n",
              "  }\n",
              "\n",
              "  @keyframes spin {\n",
              "    0% {\n",
              "      border-color: transparent;\n",
              "      border-bottom-color: var(--fill-color);\n",
              "      border-left-color: var(--fill-color);\n",
              "    }\n",
              "    20% {\n",
              "      border-color: transparent;\n",
              "      border-left-color: var(--fill-color);\n",
              "      border-top-color: var(--fill-color);\n",
              "    }\n",
              "    30% {\n",
              "      border-color: transparent;\n",
              "      border-left-color: var(--fill-color);\n",
              "      border-top-color: var(--fill-color);\n",
              "      border-right-color: var(--fill-color);\n",
              "    }\n",
              "    40% {\n",
              "      border-color: transparent;\n",
              "      border-right-color: var(--fill-color);\n",
              "      border-top-color: var(--fill-color);\n",
              "    }\n",
              "    60% {\n",
              "      border-color: transparent;\n",
              "      border-right-color: var(--fill-color);\n",
              "    }\n",
              "    80% {\n",
              "      border-color: transparent;\n",
              "      border-right-color: var(--fill-color);\n",
              "      border-bottom-color: var(--fill-color);\n",
              "    }\n",
              "    90% {\n",
              "      border-color: transparent;\n",
              "      border-bottom-color: var(--fill-color);\n",
              "    }\n",
              "  }\n",
              "</style>\n",
              "\n",
              "  <script>\n",
              "    async function quickchart(key) {\n",
              "      const quickchartButtonEl =\n",
              "        document.querySelector('#' + key + ' button');\n",
              "      quickchartButtonEl.disabled = true;  // To prevent multiple clicks.\n",
              "      quickchartButtonEl.classList.add('colab-df-spinner');\n",
              "      try {\n",
              "        const charts = await google.colab.kernel.invokeFunction(\n",
              "            'suggestCharts', [key], {});\n",
              "      } catch (error) {\n",
              "        console.error('Error during call to suggestCharts:', error);\n",
              "      }\n",
              "      quickchartButtonEl.classList.remove('colab-df-spinner');\n",
              "      quickchartButtonEl.classList.add('colab-df-quickchart-complete');\n",
              "    }\n",
              "    (() => {\n",
              "      let quickchartButtonEl =\n",
              "        document.querySelector('#df-7011b204-a907-4b8a-94c9-32d9ea9aae5b button');\n",
              "      quickchartButtonEl.style.display =\n",
              "        google.colab.kernel.accessAllowed ? 'block' : 'none';\n",
              "    })();\n",
              "  </script>\n",
              "</div>\n",
              "\n",
              "  <div id=\"id_4c8dd3e3-0d7f-4b87-a55a-4c7391525a25\">\n",
              "    <style>\n",
              "      .colab-df-generate {\n",
              "        background-color: #E8F0FE;\n",
              "        border: none;\n",
              "        border-radius: 50%;\n",
              "        cursor: pointer;\n",
              "        display: none;\n",
              "        fill: #1967D2;\n",
              "        height: 32px;\n",
              "        padding: 0 0 0 0;\n",
              "        width: 32px;\n",
              "      }\n",
              "\n",
              "      .colab-df-generate:hover {\n",
              "        background-color: #E2EBFA;\n",
              "        box-shadow: 0px 1px 2px rgba(60, 64, 67, 0.3), 0px 1px 3px 1px rgba(60, 64, 67, 0.15);\n",
              "        fill: #174EA6;\n",
              "      }\n",
              "\n",
              "      [theme=dark] .colab-df-generate {\n",
              "        background-color: #3B4455;\n",
              "        fill: #D2E3FC;\n",
              "      }\n",
              "\n",
              "      [theme=dark] .colab-df-generate:hover {\n",
              "        background-color: #434B5C;\n",
              "        box-shadow: 0px 1px 3px 1px rgba(0, 0, 0, 0.15);\n",
              "        filter: drop-shadow(0px 1px 2px rgba(0, 0, 0, 0.3));\n",
              "        fill: #FFFFFF;\n",
              "      }\n",
              "    </style>\n",
              "    <button class=\"colab-df-generate\" onclick=\"generateWithVariable('gini_df')\"\n",
              "            title=\"Generate code using this dataframe.\"\n",
              "            style=\"display:none;\">\n",
              "\n",
              "  <svg xmlns=\"http://www.w3.org/2000/svg\" height=\"24px\"viewBox=\"0 0 24 24\"\n",
              "       width=\"24px\">\n",
              "    <path d=\"M7,19H8.4L18.45,9,17,7.55,7,17.6ZM5,21V16.75L18.45,3.32a2,2,0,0,1,2.83,0l1.4,1.43a1.91,1.91,0,0,1,.58,1.4,1.91,1.91,0,0,1-.58,1.4L9.25,21ZM18.45,9,17,7.55Zm-12,3A5.31,5.31,0,0,0,4.9,8.1,5.31,5.31,0,0,0,1,6.5,5.31,5.31,0,0,0,4.9,4.9,5.31,5.31,0,0,0,6.5,1,5.31,5.31,0,0,0,8.1,4.9,5.31,5.31,0,0,0,12,6.5,5.46,5.46,0,0,0,6.5,12Z\"/>\n",
              "  </svg>\n",
              "    </button>\n",
              "    <script>\n",
              "      (() => {\n",
              "      const buttonEl =\n",
              "        document.querySelector('#id_4c8dd3e3-0d7f-4b87-a55a-4c7391525a25 button.colab-df-generate');\n",
              "      buttonEl.style.display =\n",
              "        google.colab.kernel.accessAllowed ? 'block' : 'none';\n",
              "\n",
              "      buttonEl.onclick = () => {\n",
              "        google.colab.notebook.generateWithVariable('gini_df');\n",
              "      }\n",
              "      })();\n",
              "    </script>\n",
              "  </div>\n",
              "\n",
              "    </div>\n",
              "  </div>\n"
            ],
            "application/vnd.google.colaboratory.intrinsic+json": {
              "type": "dataframe",
              "variable_name": "gini_df",
              "summary": "{\n  \"name\": \"gini_df\",\n  \"rows\": 5,\n  \"fields\": [\n    {\n      \"column\": \"Model\",\n      \"properties\": {\n        \"dtype\": \"string\",\n        \"num_unique_values\": 5,\n        \"samples\": [\n          \"LightGBM\",\n          \"XGBoost\",\n          \"SVM\"\n        ],\n        \"semantic_type\": \"\",\n        \"description\": \"\"\n      }\n    },\n    {\n      \"column\": \"Gini Coefficient\",\n      \"properties\": {\n        \"dtype\": \"number\",\n        \"std\": 0.004472135954999583,\n        \"min\": 0.88,\n        \"max\": 0.89,\n        \"num_unique_values\": 2,\n        \"samples\": [\n          0.89,\n          0.88\n        ],\n        \"semantic_type\": \"\",\n        \"description\": \"\"\n      }\n    }\n  ]\n}"
            }
          },
          "metadata": {},
          "execution_count": 1
        }
      ],
      "source": [
        "import pandas as pd\n",
        "\n",
        "# Calculate Gini coefficients for each model\n",
        "gini_coefficient_log = 2 * 0.9416270430991973 - 1\n",
        "gini_coefficient_lgb = 2 * 0.9444278218944636 - 1\n",
        "gini_coefficient_svm = 2 * 0.9410120038823917 - 1\n",
        "gini_coefficient_rf = 2 * 0.94080120038823917 - 1\n",
        "gini_coefficient_xgboost = 2 * 0.94080120038823917 - 1\n",
        "\n",
        "gini_data = {\n",
        "    'Model': ['Logistic Regression', 'LightGBM', 'SVM', 'Random Forest', 'XGBoost'],\n",
        "    'Gini Coefficient': [\n",
        "        gini_coefficient_log,\n",
        "        gini_coefficient_lgb,\n",
        "        gini_coefficient_svm,\n",
        "        gini_coefficient_rf,\n",
        "        gini_coefficient_xgboost\n",
        "    ]\n",
        "}\n",
        "\n",
        "\n",
        "gini_df = pd.DataFrame(gini_data)\n",
        "gini_df['Gini Coefficient'] = gini_df['Gini Coefficient'].round(2)\n",
        "gini_df"
      ]
    },
    {
      "cell_type": "markdown",
      "metadata": {
        "id": "743fDMTXq6cO"
      },
      "source": [
        "# 2. Precision, Recall, F1-SCORE"
      ]
    },
    {
      "cell_type": "code",
      "execution_count": null,
      "metadata": {
        "id": "PWS3z__rHalM",
        "outputId": "40964ea1-db1b-4cc5-d3ba-85fa58b7c1e3"
      },
      "outputs": [
        {
          "data": {
            "text/html": [
              "<div>\n",
              "<style scoped>\n",
              "    .dataframe tbody tr th:only-of-type {\n",
              "        vertical-align: middle;\n",
              "    }\n",
              "\n",
              "    .dataframe tbody tr th {\n",
              "        vertical-align: top;\n",
              "    }\n",
              "\n",
              "    .dataframe thead th {\n",
              "        text-align: right;\n",
              "    }\n",
              "</style>\n",
              "<table border=\"1\" class=\"dataframe\">\n",
              "  <thead>\n",
              "    <tr style=\"text-align: right;\">\n",
              "      <th></th>\n",
              "      <th>Model</th>\n",
              "      <th>Precision</th>\n",
              "      <th>Recall</th>\n",
              "      <th>F1 Score</th>\n",
              "      <th>ROC-AUC Score</th>\n",
              "      <th>Test Accuracy</th>\n",
              "    </tr>\n",
              "  </thead>\n",
              "  <tbody>\n",
              "    <tr>\n",
              "      <th>0</th>\n",
              "      <td>Random Forest</td>\n",
              "      <td>0.77</td>\n",
              "      <td>0.76</td>\n",
              "      <td>0.76</td>\n",
              "      <td>0.94</td>\n",
              "      <td>0.88</td>\n",
              "    </tr>\n",
              "    <tr>\n",
              "      <th>1</th>\n",
              "      <td>SVM</td>\n",
              "      <td>0.77</td>\n",
              "      <td>0.75</td>\n",
              "      <td>0.76</td>\n",
              "      <td>0.94</td>\n",
              "      <td>0.88</td>\n",
              "    </tr>\n",
              "    <tr>\n",
              "      <th>2</th>\n",
              "      <td>LightGBM</td>\n",
              "      <td>0.67</td>\n",
              "      <td>0.91</td>\n",
              "      <td>0.77</td>\n",
              "      <td>0.94</td>\n",
              "      <td>0.86</td>\n",
              "    </tr>\n",
              "    <tr>\n",
              "      <th>3</th>\n",
              "      <td>XGBoost</td>\n",
              "      <td>0.69</td>\n",
              "      <td>0.89</td>\n",
              "      <td>0.78</td>\n",
              "      <td>0.95</td>\n",
              "      <td>0.87</td>\n",
              "    </tr>\n",
              "    <tr>\n",
              "      <th>4</th>\n",
              "      <td>Logistic Regression</td>\n",
              "      <td>0.68</td>\n",
              "      <td>0.89</td>\n",
              "      <td>0.77</td>\n",
              "      <td>0.94</td>\n",
              "      <td>0.86</td>\n",
              "    </tr>\n",
              "  </tbody>\n",
              "</table>\n",
              "</div>"
            ],
            "text/plain": [
              "                 Model  Precision  Recall  F1 Score  ROC-AUC Score  \\\n",
              "0        Random Forest       0.77    0.76      0.76           0.94   \n",
              "1                  SVM       0.77    0.75      0.76           0.94   \n",
              "2             LightGBM       0.67    0.91      0.77           0.94   \n",
              "3              XGBoost       0.69    0.89      0.78           0.95   \n",
              "4  Logistic Regression       0.68    0.89      0.77           0.94   \n",
              "\n",
              "   Test Accuracy  \n",
              "0           0.88  \n",
              "1           0.88  \n",
              "2           0.86  \n",
              "3           0.87  \n",
              "4           0.86  "
            ]
          },
          "execution_count": 37,
          "metadata": {},
          "output_type": "execute_result"
        }
      ],
      "source": [
        "import pandas as pd\n",
        "\n",
        "data = {\n",
        "    'Model': ['Random Forest', 'SVM', 'LightGBM', 'XGBoost', 'Logistic Regression'],\n",
        "    'Precision': [0.77, 0.77, 0.67, 0.69, 0.68],  # Precision for class 1\n",
        "    'Recall': [0.76, 0.75, 0.91, 0.89, 0.89],      # Recall for class 1\n",
        "    'F1 Score': [0.76, 0.76, 0.77, 0.78, 0.77],    # F1 Score for class 1\n",
        "    'ROC-AUC Score': [0.9408, 0.9410120038823917, 0.9444278218944636, 0.9456035314473578, 0.9416270430991973],\n",
        "    'Test Accuracy': [0.8778, 0.88, 0.86, 0.87, 0.86]\n",
        "}\n",
        "\n",
        "metrics_df = pd.DataFrame(data)\n",
        "metrics_df['ROC-AUC Score'] = metrics_df['ROC-AUC Score'].round(2)\n",
        "metrics_df['Test Accuracy'] = metrics_df['Test Accuracy'].round(2)\n",
        "metrics_df"
      ]
    },
    {
      "cell_type": "code",
      "execution_count": null,
      "metadata": {
        "id": "HGxz28VLq6cO",
        "outputId": "a43a793c-adca-4ee3-d008-0860e295abb7"
      },
      "outputs": [
        {
          "data": {
            "image/png": "[encoded data removed]",
            "text/plain": [
              "<Figure size 720x432 with 1 Axes>"
            ]
          },
          "metadata": {
            "needs_background": "light"
          },
          "output_type": "display_data"
        },
        {
          "data": {
            "image/png": "[encoded data removed]",
            "text/plain": [
              "<Figure size 720x432 with 1 Axes>"
            ]
          },
          "metadata": {
            "needs_background": "light"
          },
          "output_type": "display_data"
        },
        {
          "data": {
            "image/png": "[encoded data removed]",
            "text/plain": [
              "<Figure size 720x432 with 1 Axes>"
            ]
          },
          "metadata": {
            "needs_background": "light"
          },
          "output_type": "display_data"
        }
      ],
      "source": [
        "def plot_metric(metric_name):\n",
        "\n",
        "    sorted_df = metrics_df.sort_values(by=metric_name)\n",
        "\n",
        "    plt.figure(figsize=(10, 6))\n",
        "    plt.barh(sorted_df['Model'], sorted_df[metric_name], color='skyblue')\n",
        "    plt.xlabel(metric_name)\n",
        "    plt.title(f'{metric_name} by Model')\n",
        "    plt.xticks(rotation=45)\n",
        "    plt.grid(axis='x')\n",
        "\n",
        "\n",
        "    for index, value in enumerate(sorted_df[metric_name]):\n",
        "        plt.text(value, index, f\"{value:.2f}\")\n",
        "\n",
        "    plt.tight_layout()\n",
        "    plt.show()\n",
        "\n",
        "\n",
        "plot_metric('Precision')\n",
        "plot_metric('Recall')\n",
        "plot_metric('F1 Score')"
      ]
    },
    {
      "cell_type": "code",
      "execution_count": null,
      "metadata": {
        "id": "636OlzFjHaoA",
        "outputId": "2e9077cf-65e5-4ff7-dc36-bba3703677e1"
      },
      "outputs": [
        {
          "data": {
            "text/html": [
              "<div>\n",
              "<style scoped>\n",
              "    .dataframe tbody tr th:only-of-type {\n",
              "        vertical-align: middle;\n",
              "    }\n",
              "\n",
              "    .dataframe tbody tr th {\n",
              "        vertical-align: top;\n",
              "    }\n",
              "\n",
              "    .dataframe thead th {\n",
              "        text-align: right;\n",
              "    }\n",
              "</style>\n",
              "<table border=\"1\" class=\"dataframe\">\n",
              "  <thead>\n",
              "    <tr style=\"text-align: right;\">\n",
              "      <th></th>\n",
              "      <th>Model</th>\n",
              "      <th>False Negatives</th>\n",
              "    </tr>\n",
              "  </thead>\n",
              "  <tbody>\n",
              "    <tr>\n",
              "      <th>0</th>\n",
              "      <td>Random Forest</td>\n",
              "      <td>1660</td>\n",
              "    </tr>\n",
              "    <tr>\n",
              "      <th>1</th>\n",
              "      <td>SVM</td>\n",
              "      <td>2582</td>\n",
              "    </tr>\n",
              "    <tr>\n",
              "      <th>2</th>\n",
              "      <td>LightGBM</td>\n",
              "      <td>939</td>\n",
              "    </tr>\n",
              "    <tr>\n",
              "      <th>3</th>\n",
              "      <td>XGBoost</td>\n",
              "      <td>758</td>\n",
              "    </tr>\n",
              "    <tr>\n",
              "      <th>4</th>\n",
              "      <td>Logistic Regression</td>\n",
              "      <td>1076</td>\n",
              "    </tr>\n",
              "  </tbody>\n",
              "</table>\n",
              "</div>"
            ],
            "text/plain": [
              "                 Model  False Negatives\n",
              "0        Random Forest             1660\n",
              "1                  SVM             2582\n",
              "2             LightGBM              939\n",
              "3              XGBoost              758\n",
              "4  Logistic Regression             1076"
            ]
          },
          "execution_count": 39,
          "metadata": {},
          "output_type": "execute_result"
        }
      ],
      "source": [
        "false_negatives_data = {\n",
        "    'Model': ['Random Forest', 'SVM', 'LightGBM', 'XGBoost', 'Logistic Regression'],\n",
        "    'False Negatives': [1660, 2582, 939, 758, 1076]\n",
        "}\n",
        "\n",
        "false_negatives_df = pd.DataFrame(false_negatives_data)\n",
        "false_negatives_df"
      ]
    },
    {
      "cell_type": "code",
      "execution_count": null,
      "metadata": {
        "id": "slZuyXBPHaqm",
        "outputId": "1ac5f1eb-a662-4772-dc32-ff930bba8176"
      },
      "outputs": [
        {
          "data": {
            "image/png": "[encoded data removed]",
            "text/plain": [
              "<Figure size 720x432 with 1 Axes>"
            ]
          },
          "metadata": {
            "needs_background": "light"
          },
          "output_type": "display_data"
        }
      ],
      "source": [
        "\n",
        "false_negatives_df = false_negatives_df.sort_values(by='False Negatives')\n",
        "plt.figure(figsize=(10, 6))\n",
        "plt.barh(false_negatives_df['Model'], false_negatives_df['False Negatives'], color='skyblue')\n",
        "plt.xlabel('False Negatives')\n",
        "plt.title('False Negatives by Model')\n",
        "plt.xticks(rotation=45)\n",
        "plt.grid(axis='x')\n",
        "\n",
        "for index, value in enumerate(false_negatives_df['False Negatives']):\n",
        "    plt.text(value, index, str(value))\n",
        "\n",
        "\n",
        "plt.tight_layout()\n",
        "plt.show()"
      ]
    },
    {
      "cell_type": "markdown",
      "metadata": {
        "id": "tVwgaIq1q6cO"
      },
      "source": [
        "XGBoost emerges as the best model based on the following rationale:\n",
        "\n",
        "1. F1 Score: XGBoost has the highest F1 Score (0.78), indicating a good balance between precision and recall. This suggests that it performs well in identifying positive instances while maintaining a reasonable rate of false positives.\n",
        "\n",
        "2. Recall: XGBoost has a high recall (0.89), which means it is effective at capturing positive instances. This is especially important in where missing a positive case could have serious consequences here it is credit card default\n",
        "\n",
        "3. ROC-AUC Score: It has the highest ROC-AUC Score (0.95), indicating excellent performance in distinguishing between classes across various thresholds.\n",
        "\n",
        "4. Overall Performance: While its precision is slightly lower than that of Random Forest and SVM, the trade-off is justified given the higher recall and F1 Score.\n",
        "\n",
        "This makes XGBoost a robust choice when the cost of false negatives is high"
      ]
    },
    {
      "cell_type": "markdown",
      "metadata": {
        "id": "9ObZONgmq6cO"
      },
      "source": [
        "# FINAL MODEL XGBOOST / MAKING PREDICTIONS AND EVALUATING ON UNSEEN DATA - Refer Deployment Files"
      ]
    },
    {
      "cell_type": "code",
      "execution_count": null,
      "metadata": {
        "id": "fLBxck4CHayU"
      },
      "outputs": [],
      "source": [
        "test1 = preprocess_test_data(test, categorical_cols, datetime_col)\n",
        "test2 = preprocess_test_data(test, categorical_cols, datetime_col)\n",
        "test3 = preprocess_test_data(test, categorical_cols, datetime_col)\n",
        "test4 = preprocess_test_data(test, categorical_cols, datetime_col)\n",
        "test5 = preprocess_test_data(test, categorical_cols, datetime_col)\n"
      ]
    },
    {
      "cell_type": "code",
      "execution_count": null,
      "metadata": {
        "id": "voS4rPW-Ha05"
      },
      "outputs": [],
      "source": []
    },
    {
      "cell_type": "code",
      "execution_count": null,
      "metadata": {
        "id": "iYRt3S_VHa3e"
      },
      "outputs": [],
      "source": []
    }
  ],
  "metadata": {
    "colab": {
      "machine_shape": "hm",
      "provenance": []
    },
    "kernelspec": {
      "display_name": "Python 3 (ipykernel)",
      "language": "python",
      "name": "python3"
    },
    "language_info": {
      "codemirror_mode": {
        "name": "ipython",
        "version": 3
      },
      "file_extension": ".py",
      "mimetype": "text/x-python",
      "name": "python",
      "nbconvert_exporter": "python",
      "pygments_lexer": "ipython3",
      "version": "3.10.4"
    }
  },
  "nbformat": 4,
  "nbformat_minor": 0
}